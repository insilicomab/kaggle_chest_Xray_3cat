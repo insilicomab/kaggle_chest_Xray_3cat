{
 "cells": [
  {
   "cell_type": "markdown",
   "id": "2c45fb21",
   "metadata": {
    "papermill": {
     "duration": 0.04635,
     "end_time": "2022-04-17T02:33:20.959603",
     "exception": false,
     "start_time": "2022-04-17T02:33:20.913253",
     "status": "completed"
    },
    "tags": []
   },
   "source": [
    "# 事前準備"
   ]
  },
  {
   "cell_type": "code",
   "execution_count": 1,
   "id": "bbe70c3d",
   "metadata": {
    "execution": {
     "iopub.execute_input": "2022-04-17T02:33:21.052924Z",
     "iopub.status.busy": "2022-04-17T02:33:21.051719Z",
     "iopub.status.idle": "2022-04-17T02:33:24.083969Z",
     "shell.execute_reply": "2022-04-17T02:33:24.083228Z",
     "shell.execute_reply.started": "2022-04-17T02:23:08.057339Z"
    },
    "papermill": {
     "duration": 3.08022,
     "end_time": "2022-04-17T02:33:24.084146",
     "exception": false,
     "start_time": "2022-04-17T02:33:21.003926",
     "status": "completed"
    },
    "tags": []
   },
   "outputs": [],
   "source": [
    "# ライブラリのインポート\n",
    "import os\n",
    "import re\n",
    "import random\n",
    "from glob import glob\n",
    "from warnings import filterwarnings\n",
    "\n",
    "import argparse\n",
    "\n",
    "import pandas as pd\n",
    "import numpy as np\n",
    "import matplotlib.pyplot as plt\n",
    "import seaborn as sns\n",
    "\n",
    "from sklearn.model_selection import train_test_split\n",
    "from sklearn.metrics import confusion_matrix\n",
    "from sklearn.metrics import accuracy_score, precision_score, recall_score, f1_score\n",
    "\n",
    "import cv2\n",
    "from PIL import Image\n",
    "\n",
    "import torch\n",
    "from torchvision import datasets, transforms, models\n",
    "from torch.utils.data import Dataset, DataLoader\n",
    "from torch import nn, optim\n",
    "\n",
    "from collections import defaultdict\n",
    "\n",
    "filterwarnings('ignore')   # warningをオフにする"
   ]
  },
  {
   "cell_type": "code",
   "execution_count": 2,
   "id": "0587b6c7",
   "metadata": {
    "execution": {
     "iopub.execute_input": "2022-04-17T02:33:24.179086Z",
     "iopub.status.busy": "2022-04-17T02:33:24.178166Z",
     "iopub.status.idle": "2022-04-17T02:33:24.183234Z",
     "shell.execute_reply": "2022-04-17T02:33:24.183747Z",
     "shell.execute_reply.started": "2022-04-17T02:23:08.136144Z"
    },
    "papermill": {
     "duration": 0.05615,
     "end_time": "2022-04-17T02:33:24.183932",
     "exception": false,
     "start_time": "2022-04-17T02:33:24.127782",
     "status": "completed"
    },
    "tags": []
   },
   "outputs": [],
   "source": [
    "# ランダムシードの設定\n",
    "torch.manual_seed(1234)\n",
    "torch.cuda.manual_seed(1234)\n",
    "np.random.seed(1234)\n",
    "random.seed(1234)"
   ]
  },
  {
   "cell_type": "code",
   "execution_count": 3,
   "id": "ced0bebe",
   "metadata": {
    "execution": {
     "iopub.execute_input": "2022-04-17T02:33:24.275570Z",
     "iopub.status.busy": "2022-04-17T02:33:24.274880Z",
     "iopub.status.idle": "2022-04-17T02:33:24.279914Z",
     "shell.execute_reply": "2022-04-17T02:33:24.280809Z",
     "shell.execute_reply.started": "2022-04-17T02:23:08.148895Z"
    },
    "papermill": {
     "duration": 0.052894,
     "end_time": "2022-04-17T02:33:24.281055",
     "exception": false,
     "start_time": "2022-04-17T02:33:24.228161",
     "status": "completed"
    },
    "tags": []
   },
   "outputs": [
    {
     "name": "stdout",
     "output_type": "stream",
     "text": [
      "デバイス：cpu\n"
     ]
    }
   ],
   "source": [
    "# デバイスの設定\n",
    "device = 'cuda' if torch.cuda.is_available() else 'cpu'\n",
    "kwargs = {'num_workers': 1, 'pin_memory': True} if torch.cuda.is_available() else {} # GPUが使える場合、DataLoaderでのミニバッチの取り出しを高速化\n",
    "print(f'デバイス：{device}')"
   ]
  },
  {
   "cell_type": "code",
   "execution_count": 4,
   "id": "ce1d749e",
   "metadata": {
    "execution": {
     "iopub.execute_input": "2022-04-17T02:33:24.375245Z",
     "iopub.status.busy": "2022-04-17T02:33:24.374564Z",
     "iopub.status.idle": "2022-04-17T02:33:24.382930Z",
     "shell.execute_reply": "2022-04-17T02:33:24.381762Z",
     "shell.execute_reply.started": "2022-04-17T02:23:08.185440Z"
    },
    "papermill": {
     "duration": 0.055365,
     "end_time": "2022-04-17T02:33:24.383179",
     "exception": false,
     "start_time": "2022-04-17T02:33:24.327814",
     "status": "completed"
    },
    "tags": []
   },
   "outputs": [
    {
     "name": "stdout",
     "output_type": "stream",
     "text": [
      "Namespace(image_size=224, num_classes=3)\n"
     ]
    }
   ],
   "source": [
    "# ハイパーパラメータの設定\n",
    "parser = argparse.ArgumentParser()\n",
    "parser.add_argument('--image_size', type=int, default=224)\n",
    "parser.add_argument('--num_classes', type=int, default=3)\n",
    "opt = parser.parse_args(args=[])\n",
    "print(opt)"
   ]
  },
  {
   "cell_type": "code",
   "execution_count": 5,
   "id": "8ad6dc97",
   "metadata": {
    "execution": {
     "iopub.execute_input": "2022-04-17T02:33:24.475635Z",
     "iopub.status.busy": "2022-04-17T02:33:24.474955Z",
     "iopub.status.idle": "2022-04-17T02:33:24.478639Z",
     "shell.execute_reply": "2022-04-17T02:33:24.479165Z",
     "shell.execute_reply.started": "2022-04-17T02:23:08.215510Z"
    },
    "papermill": {
     "duration": 0.050984,
     "end_time": "2022-04-17T02:33:24.479336",
     "exception": false,
     "start_time": "2022-04-17T02:33:24.428352",
     "status": "completed"
    },
    "tags": []
   },
   "outputs": [],
   "source": [
    "# NORMALのtestデータのディレクトリ\n",
    "test_normal_dir = '/kaggle/input/chest-xray-pneumonia/chest_xray/chest_xray/test/NORMAL/'\n",
    "\n",
    "# PNEUMONIAのtestデータのディレクトリ\n",
    "test_pneumonia_dir = '/kaggle/input/chest-xray-pneumonia/chest_xray/chest_xray/test/PNEUMONIA/'"
   ]
  },
  {
   "cell_type": "markdown",
   "id": "5424c6d3",
   "metadata": {
    "papermill": {
     "duration": 0.043978,
     "end_time": "2022-04-17T02:33:24.567287",
     "exception": false,
     "start_time": "2022-04-17T02:33:24.523309",
     "status": "completed"
    },
    "tags": []
   },
   "source": [
    "# 学習済みパラメータの読み込み"
   ]
  },
  {
   "cell_type": "code",
   "execution_count": 6,
   "id": "de9c9d3e",
   "metadata": {
    "execution": {
     "iopub.execute_input": "2022-04-17T02:33:24.659433Z",
     "iopub.status.busy": "2022-04-17T02:33:24.658787Z",
     "iopub.status.idle": "2022-04-17T02:33:24.661994Z",
     "shell.execute_reply": "2022-04-17T02:33:24.662498Z",
     "shell.execute_reply.started": "2022-04-17T02:23:08.246191Z"
    },
    "papermill": {
     "duration": 0.050331,
     "end_time": "2022-04-17T02:33:24.662679",
     "exception": false,
     "start_time": "2022-04-17T02:33:24.612348",
     "status": "completed"
    },
    "tags": []
   },
   "outputs": [],
   "source": [
    "# モデルのパス\n",
    "model_path = '../input/chest-xray-3cat-training-mobilenetv3l-baseline/chest-xray-3cat-mobilenet_v3_large.pth'"
   ]
  },
  {
   "cell_type": "code",
   "execution_count": 7,
   "id": "2cb43e2b",
   "metadata": {
    "execution": {
     "iopub.execute_input": "2022-04-17T02:33:24.754325Z",
     "iopub.status.busy": "2022-04-17T02:33:24.753601Z",
     "iopub.status.idle": "2022-04-17T02:33:24.925808Z",
     "shell.execute_reply": "2022-04-17T02:33:24.926489Z",
     "shell.execute_reply.started": "2022-04-17T02:23:08.280172Z"
    },
    "papermill": {
     "duration": 0.220075,
     "end_time": "2022-04-17T02:33:24.926738",
     "exception": false,
     "start_time": "2022-04-17T02:33:24.706663",
     "status": "completed"
    },
    "tags": []
   },
   "outputs": [
    {
     "name": "stdout",
     "output_type": "stream",
     "text": [
      "MobileNetV3(\n",
      "  (features): Sequential(\n",
      "    (0): ConvBNActivation(\n",
      "      (0): Conv2d(3, 16, kernel_size=(3, 3), stride=(2, 2), padding=(1, 1), bias=False)\n",
      "      (1): BatchNorm2d(16, eps=0.001, momentum=0.01, affine=True, track_running_stats=True)\n",
      "      (2): Hardswish()\n",
      "    )\n",
      "    (1): InvertedResidual(\n",
      "      (block): Sequential(\n",
      "        (0): ConvBNActivation(\n",
      "          (0): Conv2d(16, 16, kernel_size=(3, 3), stride=(1, 1), padding=(1, 1), groups=16, bias=False)\n",
      "          (1): BatchNorm2d(16, eps=0.001, momentum=0.01, affine=True, track_running_stats=True)\n",
      "          (2): ReLU(inplace=True)\n",
      "        )\n",
      "        (1): ConvBNActivation(\n",
      "          (0): Conv2d(16, 16, kernel_size=(1, 1), stride=(1, 1), bias=False)\n",
      "          (1): BatchNorm2d(16, eps=0.001, momentum=0.01, affine=True, track_running_stats=True)\n",
      "          (2): Identity()\n",
      "        )\n",
      "      )\n",
      "    )\n",
      "    (2): InvertedResidual(\n",
      "      (block): Sequential(\n",
      "        (0): ConvBNActivation(\n",
      "          (0): Conv2d(16, 64, kernel_size=(1, 1), stride=(1, 1), bias=False)\n",
      "          (1): BatchNorm2d(64, eps=0.001, momentum=0.01, affine=True, track_running_stats=True)\n",
      "          (2): ReLU(inplace=True)\n",
      "        )\n",
      "        (1): ConvBNActivation(\n",
      "          (0): Conv2d(64, 64, kernel_size=(3, 3), stride=(2, 2), padding=(1, 1), groups=64, bias=False)\n",
      "          (1): BatchNorm2d(64, eps=0.001, momentum=0.01, affine=True, track_running_stats=True)\n",
      "          (2): ReLU(inplace=True)\n",
      "        )\n",
      "        (2): ConvBNActivation(\n",
      "          (0): Conv2d(64, 24, kernel_size=(1, 1), stride=(1, 1), bias=False)\n",
      "          (1): BatchNorm2d(24, eps=0.001, momentum=0.01, affine=True, track_running_stats=True)\n",
      "          (2): Identity()\n",
      "        )\n",
      "      )\n",
      "    )\n",
      "    (3): InvertedResidual(\n",
      "      (block): Sequential(\n",
      "        (0): ConvBNActivation(\n",
      "          (0): Conv2d(24, 72, kernel_size=(1, 1), stride=(1, 1), bias=False)\n",
      "          (1): BatchNorm2d(72, eps=0.001, momentum=0.01, affine=True, track_running_stats=True)\n",
      "          (2): ReLU(inplace=True)\n",
      "        )\n",
      "        (1): ConvBNActivation(\n",
      "          (0): Conv2d(72, 72, kernel_size=(3, 3), stride=(1, 1), padding=(1, 1), groups=72, bias=False)\n",
      "          (1): BatchNorm2d(72, eps=0.001, momentum=0.01, affine=True, track_running_stats=True)\n",
      "          (2): ReLU(inplace=True)\n",
      "        )\n",
      "        (2): ConvBNActivation(\n",
      "          (0): Conv2d(72, 24, kernel_size=(1, 1), stride=(1, 1), bias=False)\n",
      "          (1): BatchNorm2d(24, eps=0.001, momentum=0.01, affine=True, track_running_stats=True)\n",
      "          (2): Identity()\n",
      "        )\n",
      "      )\n",
      "    )\n",
      "    (4): InvertedResidual(\n",
      "      (block): Sequential(\n",
      "        (0): ConvBNActivation(\n",
      "          (0): Conv2d(24, 72, kernel_size=(1, 1), stride=(1, 1), bias=False)\n",
      "          (1): BatchNorm2d(72, eps=0.001, momentum=0.01, affine=True, track_running_stats=True)\n",
      "          (2): ReLU(inplace=True)\n",
      "        )\n",
      "        (1): ConvBNActivation(\n",
      "          (0): Conv2d(72, 72, kernel_size=(5, 5), stride=(2, 2), padding=(2, 2), groups=72, bias=False)\n",
      "          (1): BatchNorm2d(72, eps=0.001, momentum=0.01, affine=True, track_running_stats=True)\n",
      "          (2): ReLU(inplace=True)\n",
      "        )\n",
      "        (2): SqueezeExcitation(\n",
      "          (fc1): Conv2d(72, 24, kernel_size=(1, 1), stride=(1, 1))\n",
      "          (relu): ReLU(inplace=True)\n",
      "          (fc2): Conv2d(24, 72, kernel_size=(1, 1), stride=(1, 1))\n",
      "        )\n",
      "        (3): ConvBNActivation(\n",
      "          (0): Conv2d(72, 40, kernel_size=(1, 1), stride=(1, 1), bias=False)\n",
      "          (1): BatchNorm2d(40, eps=0.001, momentum=0.01, affine=True, track_running_stats=True)\n",
      "          (2): Identity()\n",
      "        )\n",
      "      )\n",
      "    )\n",
      "    (5): InvertedResidual(\n",
      "      (block): Sequential(\n",
      "        (0): ConvBNActivation(\n",
      "          (0): Conv2d(40, 120, kernel_size=(1, 1), stride=(1, 1), bias=False)\n",
      "          (1): BatchNorm2d(120, eps=0.001, momentum=0.01, affine=True, track_running_stats=True)\n",
      "          (2): ReLU(inplace=True)\n",
      "        )\n",
      "        (1): ConvBNActivation(\n",
      "          (0): Conv2d(120, 120, kernel_size=(5, 5), stride=(1, 1), padding=(2, 2), groups=120, bias=False)\n",
      "          (1): BatchNorm2d(120, eps=0.001, momentum=0.01, affine=True, track_running_stats=True)\n",
      "          (2): ReLU(inplace=True)\n",
      "        )\n",
      "        (2): SqueezeExcitation(\n",
      "          (fc1): Conv2d(120, 32, kernel_size=(1, 1), stride=(1, 1))\n",
      "          (relu): ReLU(inplace=True)\n",
      "          (fc2): Conv2d(32, 120, kernel_size=(1, 1), stride=(1, 1))\n",
      "        )\n",
      "        (3): ConvBNActivation(\n",
      "          (0): Conv2d(120, 40, kernel_size=(1, 1), stride=(1, 1), bias=False)\n",
      "          (1): BatchNorm2d(40, eps=0.001, momentum=0.01, affine=True, track_running_stats=True)\n",
      "          (2): Identity()\n",
      "        )\n",
      "      )\n",
      "    )\n",
      "    (6): InvertedResidual(\n",
      "      (block): Sequential(\n",
      "        (0): ConvBNActivation(\n",
      "          (0): Conv2d(40, 120, kernel_size=(1, 1), stride=(1, 1), bias=False)\n",
      "          (1): BatchNorm2d(120, eps=0.001, momentum=0.01, affine=True, track_running_stats=True)\n",
      "          (2): ReLU(inplace=True)\n",
      "        )\n",
      "        (1): ConvBNActivation(\n",
      "          (0): Conv2d(120, 120, kernel_size=(5, 5), stride=(1, 1), padding=(2, 2), groups=120, bias=False)\n",
      "          (1): BatchNorm2d(120, eps=0.001, momentum=0.01, affine=True, track_running_stats=True)\n",
      "          (2): ReLU(inplace=True)\n",
      "        )\n",
      "        (2): SqueezeExcitation(\n",
      "          (fc1): Conv2d(120, 32, kernel_size=(1, 1), stride=(1, 1))\n",
      "          (relu): ReLU(inplace=True)\n",
      "          (fc2): Conv2d(32, 120, kernel_size=(1, 1), stride=(1, 1))\n",
      "        )\n",
      "        (3): ConvBNActivation(\n",
      "          (0): Conv2d(120, 40, kernel_size=(1, 1), stride=(1, 1), bias=False)\n",
      "          (1): BatchNorm2d(40, eps=0.001, momentum=0.01, affine=True, track_running_stats=True)\n",
      "          (2): Identity()\n",
      "        )\n",
      "      )\n",
      "    )\n",
      "    (7): InvertedResidual(\n",
      "      (block): Sequential(\n",
      "        (0): ConvBNActivation(\n",
      "          (0): Conv2d(40, 240, kernel_size=(1, 1), stride=(1, 1), bias=False)\n",
      "          (1): BatchNorm2d(240, eps=0.001, momentum=0.01, affine=True, track_running_stats=True)\n",
      "          (2): Hardswish()\n",
      "        )\n",
      "        (1): ConvBNActivation(\n",
      "          (0): Conv2d(240, 240, kernel_size=(3, 3), stride=(2, 2), padding=(1, 1), groups=240, bias=False)\n",
      "          (1): BatchNorm2d(240, eps=0.001, momentum=0.01, affine=True, track_running_stats=True)\n",
      "          (2): Hardswish()\n",
      "        )\n",
      "        (2): ConvBNActivation(\n",
      "          (0): Conv2d(240, 80, kernel_size=(1, 1), stride=(1, 1), bias=False)\n",
      "          (1): BatchNorm2d(80, eps=0.001, momentum=0.01, affine=True, track_running_stats=True)\n",
      "          (2): Identity()\n",
      "        )\n",
      "      )\n",
      "    )\n",
      "    (8): InvertedResidual(\n",
      "      (block): Sequential(\n",
      "        (0): ConvBNActivation(\n",
      "          (0): Conv2d(80, 200, kernel_size=(1, 1), stride=(1, 1), bias=False)\n",
      "          (1): BatchNorm2d(200, eps=0.001, momentum=0.01, affine=True, track_running_stats=True)\n",
      "          (2): Hardswish()\n",
      "        )\n",
      "        (1): ConvBNActivation(\n",
      "          (0): Conv2d(200, 200, kernel_size=(3, 3), stride=(1, 1), padding=(1, 1), groups=200, bias=False)\n",
      "          (1): BatchNorm2d(200, eps=0.001, momentum=0.01, affine=True, track_running_stats=True)\n",
      "          (2): Hardswish()\n",
      "        )\n",
      "        (2): ConvBNActivation(\n",
      "          (0): Conv2d(200, 80, kernel_size=(1, 1), stride=(1, 1), bias=False)\n",
      "          (1): BatchNorm2d(80, eps=0.001, momentum=0.01, affine=True, track_running_stats=True)\n",
      "          (2): Identity()\n",
      "        )\n",
      "      )\n",
      "    )\n",
      "    (9): InvertedResidual(\n",
      "      (block): Sequential(\n",
      "        (0): ConvBNActivation(\n",
      "          (0): Conv2d(80, 184, kernel_size=(1, 1), stride=(1, 1), bias=False)\n",
      "          (1): BatchNorm2d(184, eps=0.001, momentum=0.01, affine=True, track_running_stats=True)\n",
      "          (2): Hardswish()\n",
      "        )\n",
      "        (1): ConvBNActivation(\n",
      "          (0): Conv2d(184, 184, kernel_size=(3, 3), stride=(1, 1), padding=(1, 1), groups=184, bias=False)\n",
      "          (1): BatchNorm2d(184, eps=0.001, momentum=0.01, affine=True, track_running_stats=True)\n",
      "          (2): Hardswish()\n",
      "        )\n",
      "        (2): ConvBNActivation(\n",
      "          (0): Conv2d(184, 80, kernel_size=(1, 1), stride=(1, 1), bias=False)\n",
      "          (1): BatchNorm2d(80, eps=0.001, momentum=0.01, affine=True, track_running_stats=True)\n",
      "          (2): Identity()\n",
      "        )\n",
      "      )\n",
      "    )\n",
      "    (10): InvertedResidual(\n",
      "      (block): Sequential(\n",
      "        (0): ConvBNActivation(\n",
      "          (0): Conv2d(80, 184, kernel_size=(1, 1), stride=(1, 1), bias=False)\n",
      "          (1): BatchNorm2d(184, eps=0.001, momentum=0.01, affine=True, track_running_stats=True)\n",
      "          (2): Hardswish()\n",
      "        )\n",
      "        (1): ConvBNActivation(\n",
      "          (0): Conv2d(184, 184, kernel_size=(3, 3), stride=(1, 1), padding=(1, 1), groups=184, bias=False)\n",
      "          (1): BatchNorm2d(184, eps=0.001, momentum=0.01, affine=True, track_running_stats=True)\n",
      "          (2): Hardswish()\n",
      "        )\n",
      "        (2): ConvBNActivation(\n",
      "          (0): Conv2d(184, 80, kernel_size=(1, 1), stride=(1, 1), bias=False)\n",
      "          (1): BatchNorm2d(80, eps=0.001, momentum=0.01, affine=True, track_running_stats=True)\n",
      "          (2): Identity()\n",
      "        )\n",
      "      )\n",
      "    )\n",
      "    (11): InvertedResidual(\n",
      "      (block): Sequential(\n",
      "        (0): ConvBNActivation(\n",
      "          (0): Conv2d(80, 480, kernel_size=(1, 1), stride=(1, 1), bias=False)\n",
      "          (1): BatchNorm2d(480, eps=0.001, momentum=0.01, affine=True, track_running_stats=True)\n",
      "          (2): Hardswish()\n",
      "        )\n",
      "        (1): ConvBNActivation(\n",
      "          (0): Conv2d(480, 480, kernel_size=(3, 3), stride=(1, 1), padding=(1, 1), groups=480, bias=False)\n",
      "          (1): BatchNorm2d(480, eps=0.001, momentum=0.01, affine=True, track_running_stats=True)\n",
      "          (2): Hardswish()\n",
      "        )\n",
      "        (2): SqueezeExcitation(\n",
      "          (fc1): Conv2d(480, 120, kernel_size=(1, 1), stride=(1, 1))\n",
      "          (relu): ReLU(inplace=True)\n",
      "          (fc2): Conv2d(120, 480, kernel_size=(1, 1), stride=(1, 1))\n",
      "        )\n",
      "        (3): ConvBNActivation(\n",
      "          (0): Conv2d(480, 112, kernel_size=(1, 1), stride=(1, 1), bias=False)\n",
      "          (1): BatchNorm2d(112, eps=0.001, momentum=0.01, affine=True, track_running_stats=True)\n",
      "          (2): Identity()\n",
      "        )\n",
      "      )\n",
      "    )\n",
      "    (12): InvertedResidual(\n",
      "      (block): Sequential(\n",
      "        (0): ConvBNActivation(\n",
      "          (0): Conv2d(112, 672, kernel_size=(1, 1), stride=(1, 1), bias=False)\n",
      "          (1): BatchNorm2d(672, eps=0.001, momentum=0.01, affine=True, track_running_stats=True)\n",
      "          (2): Hardswish()\n",
      "        )\n",
      "        (1): ConvBNActivation(\n",
      "          (0): Conv2d(672, 672, kernel_size=(3, 3), stride=(1, 1), padding=(1, 1), groups=672, bias=False)\n",
      "          (1): BatchNorm2d(672, eps=0.001, momentum=0.01, affine=True, track_running_stats=True)\n",
      "          (2): Hardswish()\n",
      "        )\n",
      "        (2): SqueezeExcitation(\n",
      "          (fc1): Conv2d(672, 168, kernel_size=(1, 1), stride=(1, 1))\n",
      "          (relu): ReLU(inplace=True)\n",
      "          (fc2): Conv2d(168, 672, kernel_size=(1, 1), stride=(1, 1))\n",
      "        )\n",
      "        (3): ConvBNActivation(\n",
      "          (0): Conv2d(672, 112, kernel_size=(1, 1), stride=(1, 1), bias=False)\n",
      "          (1): BatchNorm2d(112, eps=0.001, momentum=0.01, affine=True, track_running_stats=True)\n",
      "          (2): Identity()\n",
      "        )\n",
      "      )\n",
      "    )\n",
      "    (13): InvertedResidual(\n",
      "      (block): Sequential(\n",
      "        (0): ConvBNActivation(\n",
      "          (0): Conv2d(112, 672, kernel_size=(1, 1), stride=(1, 1), bias=False)\n",
      "          (1): BatchNorm2d(672, eps=0.001, momentum=0.01, affine=True, track_running_stats=True)\n",
      "          (2): Hardswish()\n",
      "        )\n",
      "        (1): ConvBNActivation(\n",
      "          (0): Conv2d(672, 672, kernel_size=(5, 5), stride=(2, 2), padding=(2, 2), groups=672, bias=False)\n",
      "          (1): BatchNorm2d(672, eps=0.001, momentum=0.01, affine=True, track_running_stats=True)\n",
      "          (2): Hardswish()\n",
      "        )\n",
      "        (2): SqueezeExcitation(\n",
      "          (fc1): Conv2d(672, 168, kernel_size=(1, 1), stride=(1, 1))\n",
      "          (relu): ReLU(inplace=True)\n",
      "          (fc2): Conv2d(168, 672, kernel_size=(1, 1), stride=(1, 1))\n",
      "        )\n",
      "        (3): ConvBNActivation(\n",
      "          (0): Conv2d(672, 160, kernel_size=(1, 1), stride=(1, 1), bias=False)\n",
      "          (1): BatchNorm2d(160, eps=0.001, momentum=0.01, affine=True, track_running_stats=True)\n",
      "          (2): Identity()\n",
      "        )\n",
      "      )\n",
      "    )\n",
      "    (14): InvertedResidual(\n",
      "      (block): Sequential(\n",
      "        (0): ConvBNActivation(\n",
      "          (0): Conv2d(160, 960, kernel_size=(1, 1), stride=(1, 1), bias=False)\n",
      "          (1): BatchNorm2d(960, eps=0.001, momentum=0.01, affine=True, track_running_stats=True)\n",
      "          (2): Hardswish()\n",
      "        )\n",
      "        (1): ConvBNActivation(\n",
      "          (0): Conv2d(960, 960, kernel_size=(5, 5), stride=(1, 1), padding=(2, 2), groups=960, bias=False)\n",
      "          (1): BatchNorm2d(960, eps=0.001, momentum=0.01, affine=True, track_running_stats=True)\n",
      "          (2): Hardswish()\n",
      "        )\n",
      "        (2): SqueezeExcitation(\n",
      "          (fc1): Conv2d(960, 240, kernel_size=(1, 1), stride=(1, 1))\n",
      "          (relu): ReLU(inplace=True)\n",
      "          (fc2): Conv2d(240, 960, kernel_size=(1, 1), stride=(1, 1))\n",
      "        )\n",
      "        (3): ConvBNActivation(\n",
      "          (0): Conv2d(960, 160, kernel_size=(1, 1), stride=(1, 1), bias=False)\n",
      "          (1): BatchNorm2d(160, eps=0.001, momentum=0.01, affine=True, track_running_stats=True)\n",
      "          (2): Identity()\n",
      "        )\n",
      "      )\n",
      "    )\n",
      "    (15): InvertedResidual(\n",
      "      (block): Sequential(\n",
      "        (0): ConvBNActivation(\n",
      "          (0): Conv2d(160, 960, kernel_size=(1, 1), stride=(1, 1), bias=False)\n",
      "          (1): BatchNorm2d(960, eps=0.001, momentum=0.01, affine=True, track_running_stats=True)\n",
      "          (2): Hardswish()\n",
      "        )\n",
      "        (1): ConvBNActivation(\n",
      "          (0): Conv2d(960, 960, kernel_size=(5, 5), stride=(1, 1), padding=(2, 2), groups=960, bias=False)\n",
      "          (1): BatchNorm2d(960, eps=0.001, momentum=0.01, affine=True, track_running_stats=True)\n",
      "          (2): Hardswish()\n",
      "        )\n",
      "        (2): SqueezeExcitation(\n",
      "          (fc1): Conv2d(960, 240, kernel_size=(1, 1), stride=(1, 1))\n",
      "          (relu): ReLU(inplace=True)\n",
      "          (fc2): Conv2d(240, 960, kernel_size=(1, 1), stride=(1, 1))\n",
      "        )\n",
      "        (3): ConvBNActivation(\n",
      "          (0): Conv2d(960, 160, kernel_size=(1, 1), stride=(1, 1), bias=False)\n",
      "          (1): BatchNorm2d(160, eps=0.001, momentum=0.01, affine=True, track_running_stats=True)\n",
      "          (2): Identity()\n",
      "        )\n",
      "      )\n",
      "    )\n",
      "    (16): ConvBNActivation(\n",
      "      (0): Conv2d(160, 960, kernel_size=(1, 1), stride=(1, 1), bias=False)\n",
      "      (1): BatchNorm2d(960, eps=0.001, momentum=0.01, affine=True, track_running_stats=True)\n",
      "      (2): Hardswish()\n",
      "    )\n",
      "  )\n",
      "  (avgpool): AdaptiveAvgPool2d(output_size=1)\n",
      "  (classifier): Sequential(\n",
      "    (0): Linear(in_features=960, out_features=1280, bias=True)\n",
      "    (1): Hardswish()\n",
      "    (2): Dropout(p=0.2, inplace=True)\n",
      "    (3): Linear(in_features=1280, out_features=3, bias=True)\n",
      "  )\n",
      ")\n"
     ]
    }
   ],
   "source": [
    "model = models.mobilenet_v3_large()\n",
    "fc_in_features = model.classifier[0].out_features # 最終レイヤー関数の次元数\n",
    "model.classifier[3] = nn.Linear(fc_in_features, opt.num_classes) # 最終レイヤー関数の付け替え\n",
    "print(model)"
   ]
  },
  {
   "cell_type": "code",
   "execution_count": 8,
   "id": "1cc8b01d",
   "metadata": {
    "execution": {
     "iopub.execute_input": "2022-04-17T02:33:25.023569Z",
     "iopub.status.busy": "2022-04-17T02:33:25.022749Z",
     "iopub.status.idle": "2022-04-17T02:33:25.345635Z",
     "shell.execute_reply": "2022-04-17T02:33:25.345053Z",
     "shell.execute_reply.started": "2022-04-17T02:23:08.520253Z"
    },
    "papermill": {
     "duration": 0.372276,
     "end_time": "2022-04-17T02:33:25.345792",
     "exception": false,
     "start_time": "2022-04-17T02:33:24.973516",
     "status": "completed"
    },
    "tags": []
   },
   "outputs": [
    {
     "data": {
      "text/plain": [
       "<All keys matched successfully>"
      ]
     },
     "execution_count": 8,
     "metadata": {},
     "output_type": "execute_result"
    }
   ],
   "source": [
    "# 学習済みモデルの読み込み\n",
    "model.load_state_dict(torch.load(model_path, map_location=torch.device('cpu'))) # 学習済みモデルの読み込み"
   ]
  },
  {
   "cell_type": "code",
   "execution_count": 9,
   "id": "d0f4130c",
   "metadata": {
    "execution": {
     "iopub.execute_input": "2022-04-17T02:33:25.444120Z",
     "iopub.status.busy": "2022-04-17T02:33:25.443443Z",
     "iopub.status.idle": "2022-04-17T02:33:25.456941Z",
     "shell.execute_reply": "2022-04-17T02:33:25.457449Z",
     "shell.execute_reply.started": "2022-04-17T02:23:08.583470Z"
    },
    "papermill": {
     "duration": 0.065912,
     "end_time": "2022-04-17T02:33:25.457634",
     "exception": false,
     "start_time": "2022-04-17T02:33:25.391722",
     "status": "completed"
    },
    "tags": []
   },
   "outputs": [
    {
     "data": {
      "text/plain": [
       "MobileNetV3(\n",
       "  (features): Sequential(\n",
       "    (0): ConvBNActivation(\n",
       "      (0): Conv2d(3, 16, kernel_size=(3, 3), stride=(2, 2), padding=(1, 1), bias=False)\n",
       "      (1): BatchNorm2d(16, eps=0.001, momentum=0.01, affine=True, track_running_stats=True)\n",
       "      (2): Hardswish()\n",
       "    )\n",
       "    (1): InvertedResidual(\n",
       "      (block): Sequential(\n",
       "        (0): ConvBNActivation(\n",
       "          (0): Conv2d(16, 16, kernel_size=(3, 3), stride=(1, 1), padding=(1, 1), groups=16, bias=False)\n",
       "          (1): BatchNorm2d(16, eps=0.001, momentum=0.01, affine=True, track_running_stats=True)\n",
       "          (2): ReLU(inplace=True)\n",
       "        )\n",
       "        (1): ConvBNActivation(\n",
       "          (0): Conv2d(16, 16, kernel_size=(1, 1), stride=(1, 1), bias=False)\n",
       "          (1): BatchNorm2d(16, eps=0.001, momentum=0.01, affine=True, track_running_stats=True)\n",
       "          (2): Identity()\n",
       "        )\n",
       "      )\n",
       "    )\n",
       "    (2): InvertedResidual(\n",
       "      (block): Sequential(\n",
       "        (0): ConvBNActivation(\n",
       "          (0): Conv2d(16, 64, kernel_size=(1, 1), stride=(1, 1), bias=False)\n",
       "          (1): BatchNorm2d(64, eps=0.001, momentum=0.01, affine=True, track_running_stats=True)\n",
       "          (2): ReLU(inplace=True)\n",
       "        )\n",
       "        (1): ConvBNActivation(\n",
       "          (0): Conv2d(64, 64, kernel_size=(3, 3), stride=(2, 2), padding=(1, 1), groups=64, bias=False)\n",
       "          (1): BatchNorm2d(64, eps=0.001, momentum=0.01, affine=True, track_running_stats=True)\n",
       "          (2): ReLU(inplace=True)\n",
       "        )\n",
       "        (2): ConvBNActivation(\n",
       "          (0): Conv2d(64, 24, kernel_size=(1, 1), stride=(1, 1), bias=False)\n",
       "          (1): BatchNorm2d(24, eps=0.001, momentum=0.01, affine=True, track_running_stats=True)\n",
       "          (2): Identity()\n",
       "        )\n",
       "      )\n",
       "    )\n",
       "    (3): InvertedResidual(\n",
       "      (block): Sequential(\n",
       "        (0): ConvBNActivation(\n",
       "          (0): Conv2d(24, 72, kernel_size=(1, 1), stride=(1, 1), bias=False)\n",
       "          (1): BatchNorm2d(72, eps=0.001, momentum=0.01, affine=True, track_running_stats=True)\n",
       "          (2): ReLU(inplace=True)\n",
       "        )\n",
       "        (1): ConvBNActivation(\n",
       "          (0): Conv2d(72, 72, kernel_size=(3, 3), stride=(1, 1), padding=(1, 1), groups=72, bias=False)\n",
       "          (1): BatchNorm2d(72, eps=0.001, momentum=0.01, affine=True, track_running_stats=True)\n",
       "          (2): ReLU(inplace=True)\n",
       "        )\n",
       "        (2): ConvBNActivation(\n",
       "          (0): Conv2d(72, 24, kernel_size=(1, 1), stride=(1, 1), bias=False)\n",
       "          (1): BatchNorm2d(24, eps=0.001, momentum=0.01, affine=True, track_running_stats=True)\n",
       "          (2): Identity()\n",
       "        )\n",
       "      )\n",
       "    )\n",
       "    (4): InvertedResidual(\n",
       "      (block): Sequential(\n",
       "        (0): ConvBNActivation(\n",
       "          (0): Conv2d(24, 72, kernel_size=(1, 1), stride=(1, 1), bias=False)\n",
       "          (1): BatchNorm2d(72, eps=0.001, momentum=0.01, affine=True, track_running_stats=True)\n",
       "          (2): ReLU(inplace=True)\n",
       "        )\n",
       "        (1): ConvBNActivation(\n",
       "          (0): Conv2d(72, 72, kernel_size=(5, 5), stride=(2, 2), padding=(2, 2), groups=72, bias=False)\n",
       "          (1): BatchNorm2d(72, eps=0.001, momentum=0.01, affine=True, track_running_stats=True)\n",
       "          (2): ReLU(inplace=True)\n",
       "        )\n",
       "        (2): SqueezeExcitation(\n",
       "          (fc1): Conv2d(72, 24, kernel_size=(1, 1), stride=(1, 1))\n",
       "          (relu): ReLU(inplace=True)\n",
       "          (fc2): Conv2d(24, 72, kernel_size=(1, 1), stride=(1, 1))\n",
       "        )\n",
       "        (3): ConvBNActivation(\n",
       "          (0): Conv2d(72, 40, kernel_size=(1, 1), stride=(1, 1), bias=False)\n",
       "          (1): BatchNorm2d(40, eps=0.001, momentum=0.01, affine=True, track_running_stats=True)\n",
       "          (2): Identity()\n",
       "        )\n",
       "      )\n",
       "    )\n",
       "    (5): InvertedResidual(\n",
       "      (block): Sequential(\n",
       "        (0): ConvBNActivation(\n",
       "          (0): Conv2d(40, 120, kernel_size=(1, 1), stride=(1, 1), bias=False)\n",
       "          (1): BatchNorm2d(120, eps=0.001, momentum=0.01, affine=True, track_running_stats=True)\n",
       "          (2): ReLU(inplace=True)\n",
       "        )\n",
       "        (1): ConvBNActivation(\n",
       "          (0): Conv2d(120, 120, kernel_size=(5, 5), stride=(1, 1), padding=(2, 2), groups=120, bias=False)\n",
       "          (1): BatchNorm2d(120, eps=0.001, momentum=0.01, affine=True, track_running_stats=True)\n",
       "          (2): ReLU(inplace=True)\n",
       "        )\n",
       "        (2): SqueezeExcitation(\n",
       "          (fc1): Conv2d(120, 32, kernel_size=(1, 1), stride=(1, 1))\n",
       "          (relu): ReLU(inplace=True)\n",
       "          (fc2): Conv2d(32, 120, kernel_size=(1, 1), stride=(1, 1))\n",
       "        )\n",
       "        (3): ConvBNActivation(\n",
       "          (0): Conv2d(120, 40, kernel_size=(1, 1), stride=(1, 1), bias=False)\n",
       "          (1): BatchNorm2d(40, eps=0.001, momentum=0.01, affine=True, track_running_stats=True)\n",
       "          (2): Identity()\n",
       "        )\n",
       "      )\n",
       "    )\n",
       "    (6): InvertedResidual(\n",
       "      (block): Sequential(\n",
       "        (0): ConvBNActivation(\n",
       "          (0): Conv2d(40, 120, kernel_size=(1, 1), stride=(1, 1), bias=False)\n",
       "          (1): BatchNorm2d(120, eps=0.001, momentum=0.01, affine=True, track_running_stats=True)\n",
       "          (2): ReLU(inplace=True)\n",
       "        )\n",
       "        (1): ConvBNActivation(\n",
       "          (0): Conv2d(120, 120, kernel_size=(5, 5), stride=(1, 1), padding=(2, 2), groups=120, bias=False)\n",
       "          (1): BatchNorm2d(120, eps=0.001, momentum=0.01, affine=True, track_running_stats=True)\n",
       "          (2): ReLU(inplace=True)\n",
       "        )\n",
       "        (2): SqueezeExcitation(\n",
       "          (fc1): Conv2d(120, 32, kernel_size=(1, 1), stride=(1, 1))\n",
       "          (relu): ReLU(inplace=True)\n",
       "          (fc2): Conv2d(32, 120, kernel_size=(1, 1), stride=(1, 1))\n",
       "        )\n",
       "        (3): ConvBNActivation(\n",
       "          (0): Conv2d(120, 40, kernel_size=(1, 1), stride=(1, 1), bias=False)\n",
       "          (1): BatchNorm2d(40, eps=0.001, momentum=0.01, affine=True, track_running_stats=True)\n",
       "          (2): Identity()\n",
       "        )\n",
       "      )\n",
       "    )\n",
       "    (7): InvertedResidual(\n",
       "      (block): Sequential(\n",
       "        (0): ConvBNActivation(\n",
       "          (0): Conv2d(40, 240, kernel_size=(1, 1), stride=(1, 1), bias=False)\n",
       "          (1): BatchNorm2d(240, eps=0.001, momentum=0.01, affine=True, track_running_stats=True)\n",
       "          (2): Hardswish()\n",
       "        )\n",
       "        (1): ConvBNActivation(\n",
       "          (0): Conv2d(240, 240, kernel_size=(3, 3), stride=(2, 2), padding=(1, 1), groups=240, bias=False)\n",
       "          (1): BatchNorm2d(240, eps=0.001, momentum=0.01, affine=True, track_running_stats=True)\n",
       "          (2): Hardswish()\n",
       "        )\n",
       "        (2): ConvBNActivation(\n",
       "          (0): Conv2d(240, 80, kernel_size=(1, 1), stride=(1, 1), bias=False)\n",
       "          (1): BatchNorm2d(80, eps=0.001, momentum=0.01, affine=True, track_running_stats=True)\n",
       "          (2): Identity()\n",
       "        )\n",
       "      )\n",
       "    )\n",
       "    (8): InvertedResidual(\n",
       "      (block): Sequential(\n",
       "        (0): ConvBNActivation(\n",
       "          (0): Conv2d(80, 200, kernel_size=(1, 1), stride=(1, 1), bias=False)\n",
       "          (1): BatchNorm2d(200, eps=0.001, momentum=0.01, affine=True, track_running_stats=True)\n",
       "          (2): Hardswish()\n",
       "        )\n",
       "        (1): ConvBNActivation(\n",
       "          (0): Conv2d(200, 200, kernel_size=(3, 3), stride=(1, 1), padding=(1, 1), groups=200, bias=False)\n",
       "          (1): BatchNorm2d(200, eps=0.001, momentum=0.01, affine=True, track_running_stats=True)\n",
       "          (2): Hardswish()\n",
       "        )\n",
       "        (2): ConvBNActivation(\n",
       "          (0): Conv2d(200, 80, kernel_size=(1, 1), stride=(1, 1), bias=False)\n",
       "          (1): BatchNorm2d(80, eps=0.001, momentum=0.01, affine=True, track_running_stats=True)\n",
       "          (2): Identity()\n",
       "        )\n",
       "      )\n",
       "    )\n",
       "    (9): InvertedResidual(\n",
       "      (block): Sequential(\n",
       "        (0): ConvBNActivation(\n",
       "          (0): Conv2d(80, 184, kernel_size=(1, 1), stride=(1, 1), bias=False)\n",
       "          (1): BatchNorm2d(184, eps=0.001, momentum=0.01, affine=True, track_running_stats=True)\n",
       "          (2): Hardswish()\n",
       "        )\n",
       "        (1): ConvBNActivation(\n",
       "          (0): Conv2d(184, 184, kernel_size=(3, 3), stride=(1, 1), padding=(1, 1), groups=184, bias=False)\n",
       "          (1): BatchNorm2d(184, eps=0.001, momentum=0.01, affine=True, track_running_stats=True)\n",
       "          (2): Hardswish()\n",
       "        )\n",
       "        (2): ConvBNActivation(\n",
       "          (0): Conv2d(184, 80, kernel_size=(1, 1), stride=(1, 1), bias=False)\n",
       "          (1): BatchNorm2d(80, eps=0.001, momentum=0.01, affine=True, track_running_stats=True)\n",
       "          (2): Identity()\n",
       "        )\n",
       "      )\n",
       "    )\n",
       "    (10): InvertedResidual(\n",
       "      (block): Sequential(\n",
       "        (0): ConvBNActivation(\n",
       "          (0): Conv2d(80, 184, kernel_size=(1, 1), stride=(1, 1), bias=False)\n",
       "          (1): BatchNorm2d(184, eps=0.001, momentum=0.01, affine=True, track_running_stats=True)\n",
       "          (2): Hardswish()\n",
       "        )\n",
       "        (1): ConvBNActivation(\n",
       "          (0): Conv2d(184, 184, kernel_size=(3, 3), stride=(1, 1), padding=(1, 1), groups=184, bias=False)\n",
       "          (1): BatchNorm2d(184, eps=0.001, momentum=0.01, affine=True, track_running_stats=True)\n",
       "          (2): Hardswish()\n",
       "        )\n",
       "        (2): ConvBNActivation(\n",
       "          (0): Conv2d(184, 80, kernel_size=(1, 1), stride=(1, 1), bias=False)\n",
       "          (1): BatchNorm2d(80, eps=0.001, momentum=0.01, affine=True, track_running_stats=True)\n",
       "          (2): Identity()\n",
       "        )\n",
       "      )\n",
       "    )\n",
       "    (11): InvertedResidual(\n",
       "      (block): Sequential(\n",
       "        (0): ConvBNActivation(\n",
       "          (0): Conv2d(80, 480, kernel_size=(1, 1), stride=(1, 1), bias=False)\n",
       "          (1): BatchNorm2d(480, eps=0.001, momentum=0.01, affine=True, track_running_stats=True)\n",
       "          (2): Hardswish()\n",
       "        )\n",
       "        (1): ConvBNActivation(\n",
       "          (0): Conv2d(480, 480, kernel_size=(3, 3), stride=(1, 1), padding=(1, 1), groups=480, bias=False)\n",
       "          (1): BatchNorm2d(480, eps=0.001, momentum=0.01, affine=True, track_running_stats=True)\n",
       "          (2): Hardswish()\n",
       "        )\n",
       "        (2): SqueezeExcitation(\n",
       "          (fc1): Conv2d(480, 120, kernel_size=(1, 1), stride=(1, 1))\n",
       "          (relu): ReLU(inplace=True)\n",
       "          (fc2): Conv2d(120, 480, kernel_size=(1, 1), stride=(1, 1))\n",
       "        )\n",
       "        (3): ConvBNActivation(\n",
       "          (0): Conv2d(480, 112, kernel_size=(1, 1), stride=(1, 1), bias=False)\n",
       "          (1): BatchNorm2d(112, eps=0.001, momentum=0.01, affine=True, track_running_stats=True)\n",
       "          (2): Identity()\n",
       "        )\n",
       "      )\n",
       "    )\n",
       "    (12): InvertedResidual(\n",
       "      (block): Sequential(\n",
       "        (0): ConvBNActivation(\n",
       "          (0): Conv2d(112, 672, kernel_size=(1, 1), stride=(1, 1), bias=False)\n",
       "          (1): BatchNorm2d(672, eps=0.001, momentum=0.01, affine=True, track_running_stats=True)\n",
       "          (2): Hardswish()\n",
       "        )\n",
       "        (1): ConvBNActivation(\n",
       "          (0): Conv2d(672, 672, kernel_size=(3, 3), stride=(1, 1), padding=(1, 1), groups=672, bias=False)\n",
       "          (1): BatchNorm2d(672, eps=0.001, momentum=0.01, affine=True, track_running_stats=True)\n",
       "          (2): Hardswish()\n",
       "        )\n",
       "        (2): SqueezeExcitation(\n",
       "          (fc1): Conv2d(672, 168, kernel_size=(1, 1), stride=(1, 1))\n",
       "          (relu): ReLU(inplace=True)\n",
       "          (fc2): Conv2d(168, 672, kernel_size=(1, 1), stride=(1, 1))\n",
       "        )\n",
       "        (3): ConvBNActivation(\n",
       "          (0): Conv2d(672, 112, kernel_size=(1, 1), stride=(1, 1), bias=False)\n",
       "          (1): BatchNorm2d(112, eps=0.001, momentum=0.01, affine=True, track_running_stats=True)\n",
       "          (2): Identity()\n",
       "        )\n",
       "      )\n",
       "    )\n",
       "    (13): InvertedResidual(\n",
       "      (block): Sequential(\n",
       "        (0): ConvBNActivation(\n",
       "          (0): Conv2d(112, 672, kernel_size=(1, 1), stride=(1, 1), bias=False)\n",
       "          (1): BatchNorm2d(672, eps=0.001, momentum=0.01, affine=True, track_running_stats=True)\n",
       "          (2): Hardswish()\n",
       "        )\n",
       "        (1): ConvBNActivation(\n",
       "          (0): Conv2d(672, 672, kernel_size=(5, 5), stride=(2, 2), padding=(2, 2), groups=672, bias=False)\n",
       "          (1): BatchNorm2d(672, eps=0.001, momentum=0.01, affine=True, track_running_stats=True)\n",
       "          (2): Hardswish()\n",
       "        )\n",
       "        (2): SqueezeExcitation(\n",
       "          (fc1): Conv2d(672, 168, kernel_size=(1, 1), stride=(1, 1))\n",
       "          (relu): ReLU(inplace=True)\n",
       "          (fc2): Conv2d(168, 672, kernel_size=(1, 1), stride=(1, 1))\n",
       "        )\n",
       "        (3): ConvBNActivation(\n",
       "          (0): Conv2d(672, 160, kernel_size=(1, 1), stride=(1, 1), bias=False)\n",
       "          (1): BatchNorm2d(160, eps=0.001, momentum=0.01, affine=True, track_running_stats=True)\n",
       "          (2): Identity()\n",
       "        )\n",
       "      )\n",
       "    )\n",
       "    (14): InvertedResidual(\n",
       "      (block): Sequential(\n",
       "        (0): ConvBNActivation(\n",
       "          (0): Conv2d(160, 960, kernel_size=(1, 1), stride=(1, 1), bias=False)\n",
       "          (1): BatchNorm2d(960, eps=0.001, momentum=0.01, affine=True, track_running_stats=True)\n",
       "          (2): Hardswish()\n",
       "        )\n",
       "        (1): ConvBNActivation(\n",
       "          (0): Conv2d(960, 960, kernel_size=(5, 5), stride=(1, 1), padding=(2, 2), groups=960, bias=False)\n",
       "          (1): BatchNorm2d(960, eps=0.001, momentum=0.01, affine=True, track_running_stats=True)\n",
       "          (2): Hardswish()\n",
       "        )\n",
       "        (2): SqueezeExcitation(\n",
       "          (fc1): Conv2d(960, 240, kernel_size=(1, 1), stride=(1, 1))\n",
       "          (relu): ReLU(inplace=True)\n",
       "          (fc2): Conv2d(240, 960, kernel_size=(1, 1), stride=(1, 1))\n",
       "        )\n",
       "        (3): ConvBNActivation(\n",
       "          (0): Conv2d(960, 160, kernel_size=(1, 1), stride=(1, 1), bias=False)\n",
       "          (1): BatchNorm2d(160, eps=0.001, momentum=0.01, affine=True, track_running_stats=True)\n",
       "          (2): Identity()\n",
       "        )\n",
       "      )\n",
       "    )\n",
       "    (15): InvertedResidual(\n",
       "      (block): Sequential(\n",
       "        (0): ConvBNActivation(\n",
       "          (0): Conv2d(160, 960, kernel_size=(1, 1), stride=(1, 1), bias=False)\n",
       "          (1): BatchNorm2d(960, eps=0.001, momentum=0.01, affine=True, track_running_stats=True)\n",
       "          (2): Hardswish()\n",
       "        )\n",
       "        (1): ConvBNActivation(\n",
       "          (0): Conv2d(960, 960, kernel_size=(5, 5), stride=(1, 1), padding=(2, 2), groups=960, bias=False)\n",
       "          (1): BatchNorm2d(960, eps=0.001, momentum=0.01, affine=True, track_running_stats=True)\n",
       "          (2): Hardswish()\n",
       "        )\n",
       "        (2): SqueezeExcitation(\n",
       "          (fc1): Conv2d(960, 240, kernel_size=(1, 1), stride=(1, 1))\n",
       "          (relu): ReLU(inplace=True)\n",
       "          (fc2): Conv2d(240, 960, kernel_size=(1, 1), stride=(1, 1))\n",
       "        )\n",
       "        (3): ConvBNActivation(\n",
       "          (0): Conv2d(960, 160, kernel_size=(1, 1), stride=(1, 1), bias=False)\n",
       "          (1): BatchNorm2d(160, eps=0.001, momentum=0.01, affine=True, track_running_stats=True)\n",
       "          (2): Identity()\n",
       "        )\n",
       "      )\n",
       "    )\n",
       "    (16): ConvBNActivation(\n",
       "      (0): Conv2d(160, 960, kernel_size=(1, 1), stride=(1, 1), bias=False)\n",
       "      (1): BatchNorm2d(960, eps=0.001, momentum=0.01, affine=True, track_running_stats=True)\n",
       "      (2): Hardswish()\n",
       "    )\n",
       "  )\n",
       "  (avgpool): AdaptiveAvgPool2d(output_size=1)\n",
       "  (classifier): Sequential(\n",
       "    (0): Linear(in_features=960, out_features=1280, bias=True)\n",
       "    (1): Hardswish()\n",
       "    (2): Dropout(p=0.2, inplace=True)\n",
       "    (3): Linear(in_features=1280, out_features=3, bias=True)\n",
       "  )\n",
       ")"
      ]
     },
     "execution_count": 9,
     "metadata": {},
     "output_type": "execute_result"
    }
   ],
   "source": [
    "# モデルをGPUに送る\n",
    "model.to(device)"
   ]
  },
  {
   "cell_type": "markdown",
   "id": "e81e50ee",
   "metadata": {
    "papermill": {
     "duration": 0.046587,
     "end_time": "2022-04-17T02:33:25.550626",
     "exception": false,
     "start_time": "2022-04-17T02:33:25.504039",
     "status": "completed"
    },
    "tags": []
   },
   "source": [
    "# transform"
   ]
  },
  {
   "cell_type": "code",
   "execution_count": 10,
   "id": "052d653a",
   "metadata": {
    "execution": {
     "iopub.execute_input": "2022-04-17T02:33:25.653400Z",
     "iopub.status.busy": "2022-04-17T02:33:25.652695Z",
     "iopub.status.idle": "2022-04-17T02:33:25.654637Z",
     "shell.execute_reply": "2022-04-17T02:33:25.655182Z",
     "shell.execute_reply.started": "2022-04-17T02:23:08.601596Z"
    },
    "papermill": {
     "duration": 0.057889,
     "end_time": "2022-04-17T02:33:25.655349",
     "exception": false,
     "start_time": "2022-04-17T02:33:25.597460",
     "status": "completed"
    },
    "tags": []
   },
   "outputs": [],
   "source": [
    "# transformの設定\n",
    "transform = {\n",
    "    'train': transforms.Compose([\n",
    "        transforms.Resize((opt.image_size,opt.image_size)),\n",
    "        transforms.RandomHorizontalFlip(p=0.5),\n",
    "        transforms.RandomVerticalFlip(p=0.5),\n",
    "        transforms.RandomAffine(degrees=[-10, 10], translate=(0.1, 0.1), scale=(0.5, 1.5)),\n",
    "        transforms.RandomRotation(degrees=10),\n",
    "        transforms.ToTensor(),\n",
    "        transforms.Normalize([0.485, 0.456, 0.406], [0.229, 0.224, 0.225]),\n",
    "        ]),\n",
    "    'val': transforms.Compose([\n",
    "        transforms.Resize((opt.image_size,opt.image_size)),\n",
    "        transforms.ToTensor(),\n",
    "        transforms.Normalize([0.485, 0.456, 0.406], [0.229, 0.224, 0.225]),\n",
    "        ]),\n",
    "}"
   ]
  },
  {
   "cell_type": "code",
   "execution_count": 11,
   "id": "f98880ef",
   "metadata": {
    "execution": {
     "iopub.execute_input": "2022-04-17T02:33:25.757427Z",
     "iopub.status.busy": "2022-04-17T02:33:25.756761Z",
     "iopub.status.idle": "2022-04-17T02:33:25.759425Z",
     "shell.execute_reply": "2022-04-17T02:33:25.760004Z",
     "shell.execute_reply.started": "2022-04-17T02:23:08.610905Z"
    },
    "papermill": {
     "duration": 0.057958,
     "end_time": "2022-04-17T02:33:25.760176",
     "exception": false,
     "start_time": "2022-04-17T02:33:25.702218",
     "status": "completed"
    },
    "tags": []
   },
   "outputs": [],
   "source": [
    "# Datasetの設定\n",
    "class XrayDataset(Dataset):\n",
    "    def __init__(self, image_name_list, label_list, img_dir, transform=None, phase=None):\n",
    "        self.image_name_list = image_name_list # 画像ファイル名\n",
    "        self.label_list = label_list # ラベル\n",
    "        self.img_dir = img_dir # 画像データのディレクトリ\n",
    "        self.phase = phase # 変数phaseで学習(train)もしくは検証(val)の設定を行う\n",
    "        self.transform = transform\n",
    "\n",
    "    def __len__(self):\n",
    "        return len(self.image_name_list) # 1エポックあたりに読み込むデータ数として、入力データの数を指定\n",
    "\n",
    "    def __getitem__(self, index):\n",
    "        \n",
    "        # index番目の画像を読み込み、前処理を行う\n",
    "        image_path = os.path.join(self.img_dir, self.image_name_list[index]) # train_master.iloc[index, 0]はファイル名を抽出\n",
    "        img = Image.open(image_path).convert('RGB')\n",
    "        img = self.transform[self.phase](img)\n",
    "        \n",
    "        # index番目のラベルを取得する\n",
    "        label = self.label_list[index]\n",
    "        \n",
    "        return img, label"
   ]
  },
  {
   "cell_type": "markdown",
   "id": "c5c644b2",
   "metadata": {
    "papermill": {
     "duration": 0.045781,
     "end_time": "2022-04-17T02:33:25.852473",
     "exception": false,
     "start_time": "2022-04-17T02:33:25.806692",
     "status": "completed"
    },
    "tags": []
   },
   "source": [
    "# NORMALのテストデータを推論"
   ]
  },
  {
   "cell_type": "markdown",
   "id": "79afdb4c",
   "metadata": {
    "papermill": {
     "duration": 0.046805,
     "end_time": "2022-04-17T02:33:25.946045",
     "exception": false,
     "start_time": "2022-04-17T02:33:25.899240",
     "status": "completed"
    },
    "tags": []
   },
   "source": [
    "## NORMALのテストデータのデータフレーム化"
   ]
  },
  {
   "cell_type": "code",
   "execution_count": 12,
   "id": "0278da07",
   "metadata": {
    "execution": {
     "iopub.execute_input": "2022-04-17T02:33:26.042647Z",
     "iopub.status.busy": "2022-04-17T02:33:26.041974Z",
     "iopub.status.idle": "2022-04-17T02:33:26.111774Z",
     "shell.execute_reply": "2022-04-17T02:33:26.112313Z",
     "shell.execute_reply.started": "2022-04-17T02:23:08.621544Z"
    },
    "papermill": {
     "duration": 0.119911,
     "end_time": "2022-04-17T02:33:26.112483",
     "exception": false,
     "start_time": "2022-04-17T02:33:25.992572",
     "status": "completed"
    },
    "tags": []
   },
   "outputs": [],
   "source": [
    "# ディレクトリ内の画像リスト作成\n",
    "normal = glob(test_normal_dir+'*.jpeg')"
   ]
  },
  {
   "cell_type": "code",
   "execution_count": 13,
   "id": "824e0c08",
   "metadata": {
    "execution": {
     "iopub.execute_input": "2022-04-17T02:33:26.212344Z",
     "iopub.status.busy": "2022-04-17T02:33:26.211703Z",
     "iopub.status.idle": "2022-04-17T02:33:26.213437Z",
     "shell.execute_reply": "2022-04-17T02:33:26.213891Z",
     "shell.execute_reply.started": "2022-04-17T02:23:08.643677Z"
    },
    "papermill": {
     "duration": 0.055011,
     "end_time": "2022-04-17T02:33:26.214057",
     "exception": false,
     "start_time": "2022-04-17T02:33:26.159046",
     "status": "completed"
    },
    "tags": []
   },
   "outputs": [],
   "source": [
    "# テストデータのリストを作成\n",
    "test_file_list = []\n",
    "\n",
    "for path in normal:\n",
    "    file_name = re.split('[////////]', path)[8]\n",
    "    test_file_list.append(file_name)\n",
    "    #print(file_name)"
   ]
  },
  {
   "cell_type": "code",
   "execution_count": 14,
   "id": "045f1336",
   "metadata": {
    "execution": {
     "iopub.execute_input": "2022-04-17T02:33:26.310011Z",
     "iopub.status.busy": "2022-04-17T02:33:26.309304Z",
     "iopub.status.idle": "2022-04-17T02:33:26.333131Z",
     "shell.execute_reply": "2022-04-17T02:33:26.333817Z",
     "shell.execute_reply.started": "2022-04-17T02:23:08.649492Z"
    },
    "papermill": {
     "duration": 0.073753,
     "end_time": "2022-04-17T02:33:26.334054",
     "exception": false,
     "start_time": "2022-04-17T02:33:26.260301",
     "status": "completed"
    },
    "tags": []
   },
   "outputs": [
    {
     "name": "stdout",
     "output_type": "stream",
     "text": [
      "                          name label  true\n",
      "0    NORMAL2-IM-0336-0001.jpeg  None     0\n",
      "1            IM-0101-0001.jpeg  None     0\n",
      "2    NORMAL2-IM-0337-0001.jpeg  None     0\n",
      "3    NORMAL2-IM-0198-0001.jpeg  None     0\n",
      "4            IM-0013-0001.jpeg  None     0\n",
      "..                         ...   ...   ...\n",
      "229  NORMAL2-IM-0338-0001.jpeg  None     0\n",
      "230  NORMAL2-IM-0195-0001.jpeg  None     0\n",
      "231  NORMAL2-IM-0333-0001.jpeg  None     0\n",
      "232  NORMAL2-IM-0150-0001.jpeg  None     0\n",
      "233          IM-0010-0001.jpeg  None     0\n",
      "\n",
      "[234 rows x 3 columns]\n",
      "234\n"
     ]
    }
   ],
   "source": [
    "# ファイル名とラベルのデータフレームを作成\n",
    "test_normal_df = pd.DataFrame({'name': test_file_list})\n",
    "test_normal_df['label'] = None\n",
    "test_normal_df['true'] = 0 # 正解ラベルの付与\n",
    "\n",
    "print(test_normal_df)\n",
    "print(len(test_normal_df))"
   ]
  },
  {
   "cell_type": "code",
   "execution_count": 15,
   "id": "98bfce40",
   "metadata": {
    "execution": {
     "iopub.execute_input": "2022-04-17T02:33:26.431643Z",
     "iopub.status.busy": "2022-04-17T02:33:26.430968Z",
     "iopub.status.idle": "2022-04-17T02:33:26.434540Z",
     "shell.execute_reply": "2022-04-17T02:33:26.435049Z",
     "shell.execute_reply.started": "2022-04-17T02:23:08.663535Z"
    },
    "papermill": {
     "duration": 0.053097,
     "end_time": "2022-04-17T02:33:26.435211",
     "exception": false,
     "start_time": "2022-04-17T02:33:26.382114",
     "status": "completed"
    },
    "tags": []
   },
   "outputs": [],
   "source": [
    "# 画像データの名前リストの抽出\n",
    "x_test_normal = test_normal_df['name'].values\n",
    "dummy = test_normal_df['name'].values\n",
    "#print(x_test_normal, f'データ数：{len(x_test_normal)}')"
   ]
  },
  {
   "cell_type": "code",
   "execution_count": 16,
   "id": "b6967a0f",
   "metadata": {
    "execution": {
     "iopub.execute_input": "2022-04-17T02:33:26.532134Z",
     "iopub.status.busy": "2022-04-17T02:33:26.531437Z",
     "iopub.status.idle": "2022-04-17T02:33:26.534681Z",
     "shell.execute_reply": "2022-04-17T02:33:26.535158Z",
     "shell.execute_reply.started": "2022-04-17T02:23:08.670828Z"
    },
    "papermill": {
     "duration": 0.0535,
     "end_time": "2022-04-17T02:33:26.535330",
     "exception": false,
     "start_time": "2022-04-17T02:33:26.481830",
     "status": "completed"
    },
    "tags": []
   },
   "outputs": [],
   "source": [
    "# Datasetのインスタンス作成\n",
    "test_normal_dataset = XrayDataset(x_test_normal, dummy, test_normal_dir, transform=transform, phase='val')"
   ]
  },
  {
   "cell_type": "code",
   "execution_count": 17,
   "id": "f8f20b10",
   "metadata": {
    "execution": {
     "iopub.execute_input": "2022-04-17T02:33:26.632816Z",
     "iopub.status.busy": "2022-04-17T02:33:26.632172Z",
     "iopub.status.idle": "2022-04-17T02:33:26.635556Z",
     "shell.execute_reply": "2022-04-17T02:33:26.636047Z",
     "shell.execute_reply.started": "2022-04-17T02:23:08.678786Z"
    },
    "papermill": {
     "duration": 0.054017,
     "end_time": "2022-04-17T02:33:26.636201",
     "exception": false,
     "start_time": "2022-04-17T02:33:26.582184",
     "status": "completed"
    },
    "tags": []
   },
   "outputs": [],
   "source": [
    "# DataLoader\n",
    "test_normal_dataloader = DataLoader(test_normal_dataset, batch_size=1, shuffle=False)"
   ]
  },
  {
   "cell_type": "code",
   "execution_count": 18,
   "id": "df0eff15",
   "metadata": {
    "execution": {
     "iopub.execute_input": "2022-04-17T02:33:26.733386Z",
     "iopub.status.busy": "2022-04-17T02:33:26.732735Z",
     "iopub.status.idle": "2022-04-17T02:33:26.807213Z",
     "shell.execute_reply": "2022-04-17T02:33:26.807937Z",
     "shell.execute_reply.started": "2022-04-17T02:23:08.689446Z"
    },
    "papermill": {
     "duration": 0.124758,
     "end_time": "2022-04-17T02:33:26.808189",
     "exception": false,
     "start_time": "2022-04-17T02:33:26.683431",
     "status": "completed"
    },
    "tags": []
   },
   "outputs": [
    {
     "name": "stdout",
     "output_type": "stream",
     "text": [
      "torch.Size([1, 3, 224, 224])\n",
      "('NORMAL2-IM-0336-0001.jpeg',)\n"
     ]
    }
   ],
   "source": [
    "# DataLoaderの確認\n",
    "train_iter = iter(test_normal_dataloader)\n",
    "imgs, labels = train_iter.next()\n",
    "print(imgs.size())\n",
    "print(labels)"
   ]
  },
  {
   "cell_type": "markdown",
   "id": "3216575b",
   "metadata": {
    "papermill": {
     "duration": 0.047875,
     "end_time": "2022-04-17T02:33:26.904014",
     "exception": false,
     "start_time": "2022-04-17T02:33:26.856139",
     "status": "completed"
    },
    "tags": []
   },
   "source": [
    "## NORMALのテストデータの予測"
   ]
  },
  {
   "cell_type": "code",
   "execution_count": 19,
   "id": "3a841eac",
   "metadata": {
    "execution": {
     "iopub.execute_input": "2022-04-17T02:33:27.003122Z",
     "iopub.status.busy": "2022-04-17T02:33:27.002455Z",
     "iopub.status.idle": "2022-04-17T02:34:19.931233Z",
     "shell.execute_reply": "2022-04-17T02:34:19.932105Z",
     "shell.execute_reply.started": "2022-04-17T02:23:08.718575Z"
    },
    "papermill": {
     "duration": 52.979819,
     "end_time": "2022-04-17T02:34:19.932293",
     "exception": false,
     "start_time": "2022-04-17T02:33:26.952474",
     "status": "completed"
    },
    "tags": []
   },
   "outputs": [],
   "source": [
    "# 予測データフレームの作成\n",
    "normal_preds = []\n",
    "\n",
    "# dataloaderから、ミニバッチ単位でデータを読み込む\n",
    "for images, _ in test_normal_dataloader:\n",
    "    \n",
    "    # 入力データをdeviceへ\n",
    "    images = images.to(device)\n",
    "    \n",
    "    # 学習済みモデルを推論モードに設定\n",
    "    model.eval()\n",
    "    \n",
    "    # モデルによる変換\n",
    "    outputs = model(images)\n",
    "    pred = torch.argmax(outputs, dim=1)\n",
    "    pred = pred.to('cpu').numpy()\n",
    "\n",
    "    # 予測値をリストに追加\n",
    "    normal_preds.extend(pred)"
   ]
  },
  {
   "cell_type": "code",
   "execution_count": 20,
   "id": "89367a89",
   "metadata": {
    "execution": {
     "iopub.execute_input": "2022-04-17T02:34:20.032875Z",
     "iopub.status.busy": "2022-04-17T02:34:20.032105Z",
     "iopub.status.idle": "2022-04-17T02:34:20.037139Z",
     "shell.execute_reply": "2022-04-17T02:34:20.037650Z",
     "shell.execute_reply.started": "2022-04-17T02:23:20.566090Z"
    },
    "papermill": {
     "duration": 0.055287,
     "end_time": "2022-04-17T02:34:20.037813",
     "exception": false,
     "start_time": "2022-04-17T02:34:19.982526",
     "status": "completed"
    },
    "tags": []
   },
   "outputs": [
    {
     "name": "stdout",
     "output_type": "stream",
     "text": [
      "[1, 1, 0, 2, 0, 0, 0, 0, 0, 0, 1, 0, 1, 1, 0, 0, 0, 0, 1, 0, 1, 0, 2, 1, 1, 1, 1, 0, 0, 0, 0, 1, 2, 1, 0, 1, 0, 1, 0, 0, 2, 0, 0, 0, 0, 0, 0, 1, 0, 0, 0, 0, 0, 1, 0, 0, 0, 0, 0, 0, 1, 1, 1, 0, 0, 0, 0, 1, 0, 0, 1, 2, 0, 0, 0, 1, 2, 0, 0, 0, 0, 0, 0, 0, 0, 0, 1, 0, 0, 0, 1, 0, 1, 0, 0, 1, 0, 0, 0, 0, 0, 1, 0, 0, 1, 0, 0, 1, 0, 1, 0, 0, 1, 1, 0, 2, 0, 0, 0, 0, 0, 0, 0, 0, 0, 1, 0, 0, 1, 1, 0, 1, 0, 0, 0, 1, 2, 0, 0, 0, 0, 0, 1, 0, 0, 0, 0, 1, 1, 1, 0, 1, 0, 1, 2, 1, 0, 1, 1, 0, 1, 0, 0, 2, 0, 0, 1, 0, 0, 0, 0, 0, 0, 1, 0, 2, 0, 1, 0, 0, 0, 2, 1, 0, 1, 0, 0, 1, 0, 0, 1, 0, 2, 1, 1, 0, 2, 0, 0, 2, 0, 0, 0, 0, 2, 1, 1, 1, 0, 0, 0, 2, 0, 0, 1, 0, 0, 2, 0, 0, 0, 1, 0, 0, 1, 1, 0, 0, 1, 2, 1, 0, 1, 0]\n",
      "正解率： 0.6324786324786325\n"
     ]
    }
   ],
   "source": [
    "# 予測結果と正解率の確認\n",
    "print(normal_preds)\n",
    "print('正解率：', normal_preds.count(0) / len(normal_preds))"
   ]
  },
  {
   "cell_type": "code",
   "execution_count": 21,
   "id": "89b2c1ff",
   "metadata": {
    "execution": {
     "iopub.execute_input": "2022-04-17T02:34:20.135768Z",
     "iopub.status.busy": "2022-04-17T02:34:20.135091Z",
     "iopub.status.idle": "2022-04-17T02:34:20.142090Z",
     "shell.execute_reply": "2022-04-17T02:34:20.142723Z",
     "shell.execute_reply.started": "2022-04-17T02:23:20.573000Z"
    },
    "papermill": {
     "duration": 0.057655,
     "end_time": "2022-04-17T02:34:20.142888",
     "exception": false,
     "start_time": "2022-04-17T02:34:20.085233",
     "status": "completed"
    },
    "tags": []
   },
   "outputs": [
    {
     "name": "stdout",
     "output_type": "stream",
     "text": [
      "                        name  label  true\n",
      "0  NORMAL2-IM-0336-0001.jpeg      1     0\n",
      "1          IM-0101-0001.jpeg      1     0\n",
      "2  NORMAL2-IM-0337-0001.jpeg      0     0\n",
      "3  NORMAL2-IM-0198-0001.jpeg      2     0\n",
      "4          IM-0013-0001.jpeg      0     0\n"
     ]
    }
   ],
   "source": [
    "# 目的変数カラムの置き換え\n",
    "test_normal_df['label'] = normal_preds\n",
    "print(test_normal_df.head())"
   ]
  },
  {
   "cell_type": "markdown",
   "id": "87eb5e51",
   "metadata": {
    "papermill": {
     "duration": 0.048037,
     "end_time": "2022-04-17T02:34:20.239747",
     "exception": false,
     "start_time": "2022-04-17T02:34:20.191710",
     "status": "completed"
    },
    "tags": []
   },
   "source": [
    "# PNEUMONIAのテストデータを推論"
   ]
  },
  {
   "cell_type": "markdown",
   "id": "1a14c245",
   "metadata": {
    "papermill": {
     "duration": 0.047236,
     "end_time": "2022-04-17T02:34:20.334819",
     "exception": false,
     "start_time": "2022-04-17T02:34:20.287583",
     "status": "completed"
    },
    "tags": []
   },
   "source": [
    "## PNEUMONIAのテストデータのデータフレーム化"
   ]
  },
  {
   "cell_type": "code",
   "execution_count": 22,
   "id": "71208064",
   "metadata": {
    "execution": {
     "iopub.execute_input": "2022-04-17T02:34:20.435322Z",
     "iopub.status.busy": "2022-04-17T02:34:20.434647Z",
     "iopub.status.idle": "2022-04-17T02:34:20.492097Z",
     "shell.execute_reply": "2022-04-17T02:34:20.492680Z",
     "shell.execute_reply.started": "2022-04-17T02:23:20.585753Z"
    },
    "papermill": {
     "duration": 0.110301,
     "end_time": "2022-04-17T02:34:20.492855",
     "exception": false,
     "start_time": "2022-04-17T02:34:20.382554",
     "status": "completed"
    },
    "tags": []
   },
   "outputs": [],
   "source": [
    "# ディレクトリ内の画像リスト作成\n",
    "pneumonia = glob(test_pneumonia_dir+'*.jpeg')"
   ]
  },
  {
   "cell_type": "code",
   "execution_count": 23,
   "id": "2a08b96b",
   "metadata": {
    "execution": {
     "iopub.execute_input": "2022-04-17T02:34:20.593394Z",
     "iopub.status.busy": "2022-04-17T02:34:20.592751Z",
     "iopub.status.idle": "2022-04-17T02:34:20.597386Z",
     "shell.execute_reply": "2022-04-17T02:34:20.597931Z",
     "shell.execute_reply.started": "2022-04-17T02:23:20.597449Z"
    },
    "papermill": {
     "duration": 0.056187,
     "end_time": "2022-04-17T02:34:20.598095",
     "exception": false,
     "start_time": "2022-04-17T02:34:20.541908",
     "status": "completed"
    },
    "tags": []
   },
   "outputs": [],
   "source": [
    "# テストデータのリストを作成\n",
    "test_file_list = []\n",
    "\n",
    "for path in pneumonia:\n",
    "    file_name = re.split('[////////]', path)[8]\n",
    "    test_file_list.append(file_name)\n",
    "    #print(file_name)"
   ]
  },
  {
   "cell_type": "code",
   "execution_count": 24,
   "id": "2fd301ae",
   "metadata": {
    "execution": {
     "iopub.execute_input": "2022-04-17T02:34:20.698981Z",
     "iopub.status.busy": "2022-04-17T02:34:20.698362Z",
     "iopub.status.idle": "2022-04-17T02:34:20.709008Z",
     "shell.execute_reply": "2022-04-17T02:34:20.709539Z",
     "shell.execute_reply.started": "2022-04-17T02:23:20.606335Z"
    },
    "papermill": {
     "duration": 0.062961,
     "end_time": "2022-04-17T02:34:20.709747",
     "exception": false,
     "start_time": "2022-04-17T02:34:20.646786",
     "status": "completed"
    },
    "tags": []
   },
   "outputs": [
    {
     "name": "stdout",
     "output_type": "stream",
     "text": [
      "                            name label  true\n",
      "0     person1676_virus_2892.jpeg  None  None\n",
      "1     person1650_virus_2852.jpeg  None  None\n",
      "2         person22_virus_55.jpeg  None  None\n",
      "3    person122_bacteria_582.jpeg  None  None\n",
      "4     person85_bacteria_417.jpeg  None  None\n",
      "..                           ...   ...   ...\n",
      "385   person1659_virus_2867.jpeg  None  None\n",
      "386   person1615_virus_2801.jpeg  None  None\n",
      "387   person1664_virus_2877.jpeg  None  None\n",
      "388  person111_bacteria_536.jpeg  None  None\n",
      "389  person152_bacteria_724.jpeg  None  None\n",
      "\n",
      "[390 rows x 3 columns]\n",
      "390\n"
     ]
    }
   ],
   "source": [
    "# ファイル名とラベルのデータフレームを作成\n",
    "test_pneumonia_df = pd.DataFrame({'name':test_file_list})\n",
    "test_pneumonia_df['label'] = None\n",
    "test_pneumonia_df['true'] = None\n",
    "\n",
    "print(test_pneumonia_df)\n",
    "print(len(test_pneumonia_df))"
   ]
  },
  {
   "cell_type": "code",
   "execution_count": 25,
   "id": "6bdb36fc",
   "metadata": {
    "execution": {
     "iopub.execute_input": "2022-04-17T02:34:20.821370Z",
     "iopub.status.busy": "2022-04-17T02:34:20.820296Z",
     "iopub.status.idle": "2022-04-17T02:34:20.908870Z",
     "shell.execute_reply": "2022-04-17T02:34:20.909358Z",
     "shell.execute_reply.started": "2022-04-17T02:23:20.619382Z"
    },
    "papermill": {
     "duration": 0.150498,
     "end_time": "2022-04-17T02:34:20.909523",
     "exception": false,
     "start_time": "2022-04-17T02:34:20.759025",
     "status": "completed"
    },
    "tags": []
   },
   "outputs": [
    {
     "name": "stdout",
     "output_type": "stream",
     "text": [
      "                            name label true\n",
      "0     person1676_virus_2892.jpeg  None    1\n",
      "1     person1650_virus_2852.jpeg  None    1\n",
      "2         person22_virus_55.jpeg  None    1\n",
      "3    person122_bacteria_582.jpeg  None    2\n",
      "4     person85_bacteria_417.jpeg  None    2\n",
      "..                           ...   ...  ...\n",
      "385   person1659_virus_2867.jpeg  None    1\n",
      "386   person1615_virus_2801.jpeg  None    1\n",
      "387   person1664_virus_2877.jpeg  None    1\n",
      "388  person111_bacteria_536.jpeg  None    2\n",
      "389  person152_bacteria_724.jpeg  None    2\n",
      "\n",
      "[390 rows x 3 columns]\n",
      "Series([], Name: label, dtype: int64)\n"
     ]
    }
   ],
   "source": [
    "# 正解ラベルの付与\n",
    "for i in range(len(test_pneumonia_df)):\n",
    "    #print(test_pneumonia_df.iloc[i, 0])\n",
    "    if 'virus' in test_pneumonia_df.iloc[i, 0]:\n",
    "        test_pneumonia_df.iloc[i, 2] = 1\n",
    "    \n",
    "    else:\n",
    "        test_pneumonia_df.iloc[i, 2] = 2\n",
    "\n",
    "# データフレームの確認\n",
    "print(test_pneumonia_df)\n",
    "print(test_pneumonia_df['label'].value_counts())"
   ]
  },
  {
   "cell_type": "code",
   "execution_count": 26,
   "id": "0a75ba2c",
   "metadata": {
    "execution": {
     "iopub.execute_input": "2022-04-17T02:34:21.013439Z",
     "iopub.status.busy": "2022-04-17T02:34:21.012521Z",
     "iopub.status.idle": "2022-04-17T02:34:21.015001Z",
     "shell.execute_reply": "2022-04-17T02:34:21.014514Z",
     "shell.execute_reply.started": "2022-04-17T02:23:20.746026Z"
    },
    "papermill": {
     "duration": 0.056424,
     "end_time": "2022-04-17T02:34:21.015137",
     "exception": false,
     "start_time": "2022-04-17T02:34:20.958713",
     "status": "completed"
    },
    "tags": []
   },
   "outputs": [],
   "source": [
    "# 画像データの名前リストの抽出\n",
    "x_test_pneumonia = test_pneumonia_df['name'].values\n",
    "dummy = test_pneumonia_df['name'].values\n",
    "#print(x_test_pneumonia, f'データ数：{len(x_test_pneumonia)}')"
   ]
  },
  {
   "cell_type": "code",
   "execution_count": 27,
   "id": "32e2191a",
   "metadata": {
    "execution": {
     "iopub.execute_input": "2022-04-17T02:34:21.118003Z",
     "iopub.status.busy": "2022-04-17T02:34:21.117166Z",
     "iopub.status.idle": "2022-04-17T02:34:21.119865Z",
     "shell.execute_reply": "2022-04-17T02:34:21.119324Z",
     "shell.execute_reply.started": "2022-04-17T02:23:20.752415Z"
    },
    "papermill": {
     "duration": 0.056012,
     "end_time": "2022-04-17T02:34:21.120002",
     "exception": false,
     "start_time": "2022-04-17T02:34:21.063990",
     "status": "completed"
    },
    "tags": []
   },
   "outputs": [],
   "source": [
    "# Datasetのインスタンス作成\n",
    "test_pneumonia_dataset = XrayDataset(x_test_pneumonia, dummy, test_pneumonia_dir, transform=transform, phase='val')"
   ]
  },
  {
   "cell_type": "code",
   "execution_count": 28,
   "id": "346715e2",
   "metadata": {
    "execution": {
     "iopub.execute_input": "2022-04-17T02:34:21.222349Z",
     "iopub.status.busy": "2022-04-17T02:34:21.221731Z",
     "iopub.status.idle": "2022-04-17T02:34:21.223865Z",
     "shell.execute_reply": "2022-04-17T02:34:21.224447Z",
     "shell.execute_reply.started": "2022-04-17T02:23:20.766214Z"
    },
    "papermill": {
     "duration": 0.055849,
     "end_time": "2022-04-17T02:34:21.224621",
     "exception": false,
     "start_time": "2022-04-17T02:34:21.168772",
     "status": "completed"
    },
    "tags": []
   },
   "outputs": [],
   "source": [
    "# DataLoader\n",
    "test_pneumonia_dataloader = DataLoader(test_pneumonia_dataset, batch_size=1, shuffle=False)"
   ]
  },
  {
   "cell_type": "code",
   "execution_count": 29,
   "id": "b79c8114",
   "metadata": {
    "execution": {
     "iopub.execute_input": "2022-04-17T02:34:21.325343Z",
     "iopub.status.busy": "2022-04-17T02:34:21.324689Z",
     "iopub.status.idle": "2022-04-17T02:34:21.359434Z",
     "shell.execute_reply": "2022-04-17T02:34:21.360132Z",
     "shell.execute_reply.started": "2022-04-17T02:23:20.779443Z"
    },
    "papermill": {
     "duration": 0.087117,
     "end_time": "2022-04-17T02:34:21.360324",
     "exception": false,
     "start_time": "2022-04-17T02:34:21.273207",
     "status": "completed"
    },
    "tags": []
   },
   "outputs": [
    {
     "name": "stdout",
     "output_type": "stream",
     "text": [
      "torch.Size([1, 3, 224, 224])\n",
      "('person1676_virus_2892.jpeg',)\n"
     ]
    }
   ],
   "source": [
    "# DataLoaderの確認\n",
    "train_iter = iter(test_pneumonia_dataloader)\n",
    "imgs, labels = train_iter.next()\n",
    "print(imgs.size())\n",
    "print(labels)"
   ]
  },
  {
   "cell_type": "markdown",
   "id": "3236dd9b",
   "metadata": {
    "papermill": {
     "duration": 0.048612,
     "end_time": "2022-04-17T02:34:21.460065",
     "exception": false,
     "start_time": "2022-04-17T02:34:21.411453",
     "status": "completed"
    },
    "tags": []
   },
   "source": [
    "## PNEUMONIAのテストデータの予測"
   ]
  },
  {
   "cell_type": "code",
   "execution_count": 30,
   "id": "a88e088c",
   "metadata": {
    "execution": {
     "iopub.execute_input": "2022-04-17T02:34:21.561022Z",
     "iopub.status.busy": "2022-04-17T02:34:21.560354Z",
     "iopub.status.idle": "2022-04-17T02:35:41.264249Z",
     "shell.execute_reply": "2022-04-17T02:35:41.264924Z",
     "shell.execute_reply.started": "2022-04-17T02:23:20.810160Z"
    },
    "papermill": {
     "duration": 79.756353,
     "end_time": "2022-04-17T02:35:41.265174",
     "exception": false,
     "start_time": "2022-04-17T02:34:21.508821",
     "status": "completed"
    },
    "tags": []
   },
   "outputs": [],
   "source": [
    "# 予測データフレームの作成\n",
    "pneumonia_preds = []\n",
    "\n",
    "# dataloaderから、ミニバッチ単位でデータを読み込む\n",
    "for images, _ in test_pneumonia_dataloader:\n",
    "    \n",
    "    # 入力データをdeviceへ\n",
    "    images = images.to(device)\n",
    "    \n",
    "    # 学習済みモデルを推論モードに設定\n",
    "    model.eval()\n",
    "    \n",
    "    # モデルによる変換\n",
    "    outputs = model(images)\n",
    "    pred = torch.argmax(outputs, dim=1)\n",
    "    pred = pred.to('cpu').numpy()\n",
    "\n",
    "    # 予測値をリストに追加\n",
    "    pneumonia_preds.extend(pred)"
   ]
  },
  {
   "cell_type": "code",
   "execution_count": 31,
   "id": "72459a82",
   "metadata": {
    "execution": {
     "iopub.execute_input": "2022-04-17T02:35:41.379066Z",
     "iopub.status.busy": "2022-04-17T02:35:41.372238Z",
     "iopub.status.idle": "2022-04-17T02:35:41.382318Z",
     "shell.execute_reply": "2022-04-17T02:35:41.382951Z",
     "shell.execute_reply.started": "2022-04-17T02:23:34.587713Z"
    },
    "papermill": {
     "duration": 0.064926,
     "end_time": "2022-04-17T02:35:41.383126",
     "exception": false,
     "start_time": "2022-04-17T02:35:41.318200",
     "status": "completed"
    },
    "tags": []
   },
   "outputs": [
    {
     "name": "stdout",
     "output_type": "stream",
     "text": [
      "                          name  label true\n",
      "0   person1676_virus_2892.jpeg      1    1\n",
      "1   person1650_virus_2852.jpeg      1    1\n",
      "2       person22_virus_55.jpeg      1    1\n",
      "3  person122_bacteria_582.jpeg      2    2\n",
      "4   person85_bacteria_417.jpeg      2    2\n"
     ]
    }
   ],
   "source": [
    "# 目的変数カラムの置き換え\n",
    "test_pneumonia_df['label'] = pneumonia_preds\n",
    "print(test_pneumonia_df.head())"
   ]
  },
  {
   "cell_type": "markdown",
   "id": "793e099f",
   "metadata": {
    "papermill": {
     "duration": 0.04916,
     "end_time": "2022-04-17T02:35:41.482480",
     "exception": false,
     "start_time": "2022-04-17T02:35:41.433320",
     "status": "completed"
    },
    "tags": []
   },
   "source": [
    "# 混同行列"
   ]
  },
  {
   "cell_type": "code",
   "execution_count": 32,
   "id": "0ec4b888",
   "metadata": {
    "execution": {
     "iopub.execute_input": "2022-04-17T02:35:41.586285Z",
     "iopub.status.busy": "2022-04-17T02:35:41.585102Z",
     "iopub.status.idle": "2022-04-17T02:35:41.591944Z",
     "shell.execute_reply": "2022-04-17T02:35:41.592482Z",
     "shell.execute_reply.started": "2022-04-17T02:23:34.602244Z"
    },
    "papermill": {
     "duration": 0.060582,
     "end_time": "2022-04-17T02:35:41.592704",
     "exception": false,
     "start_time": "2022-04-17T02:35:41.532122",
     "status": "completed"
    },
    "tags": []
   },
   "outputs": [],
   "source": [
    "# 予測データフレームの結合\n",
    "df = pd.concat([test_normal_df, test_pneumonia_df])"
   ]
  },
  {
   "cell_type": "code",
   "execution_count": 33,
   "id": "f6b4e64b",
   "metadata": {
    "execution": {
     "iopub.execute_input": "2022-04-17T02:35:41.699157Z",
     "iopub.status.busy": "2022-04-17T02:35:41.698440Z",
     "iopub.status.idle": "2022-04-17T02:35:41.711092Z",
     "shell.execute_reply": "2022-04-17T02:35:41.710383Z",
     "shell.execute_reply.started": "2022-04-17T02:23:34.613472Z"
    },
    "papermill": {
     "duration": 0.068759,
     "end_time": "2022-04-17T02:35:41.711293",
     "exception": false,
     "start_time": "2022-04-17T02:35:41.642534",
     "status": "completed"
    },
    "tags": []
   },
   "outputs": [
    {
     "name": "stdout",
     "output_type": "stream",
     "text": [
      "                            name     label      true\n",
      "0      NORMAL2-IM-0336-0001.jpeg     VIRUS    NORMAL\n",
      "1              IM-0101-0001.jpeg     VIRUS    NORMAL\n",
      "2      NORMAL2-IM-0337-0001.jpeg    NORMAL    NORMAL\n",
      "3      NORMAL2-IM-0198-0001.jpeg  BACTERIA    NORMAL\n",
      "4              IM-0013-0001.jpeg    NORMAL    NORMAL\n",
      "..                           ...       ...       ...\n",
      "385   person1659_virus_2867.jpeg     VIRUS     VIRUS\n",
      "386   person1615_virus_2801.jpeg     VIRUS     VIRUS\n",
      "387   person1664_virus_2877.jpeg     VIRUS     VIRUS\n",
      "388  person111_bacteria_536.jpeg  BACTERIA  BACTERIA\n",
      "389  person152_bacteria_724.jpeg  BACTERIA  BACTERIA\n",
      "\n",
      "[624 rows x 3 columns]\n"
     ]
    }
   ],
   "source": [
    "# ラベルの変更\n",
    "df['label'] = df['label'].map({0: 'NORMAL',\n",
    "                               1: 'VIRUS',\n",
    "                               2: 'BACTERIA'})\n",
    "df['true'] = df['true'].map({0: 'NORMAL',\n",
    "                             1: 'VIRUS',\n",
    "                             2: 'BACTERIA'})\n",
    "print(df)"
   ]
  },
  {
   "cell_type": "code",
   "execution_count": 34,
   "id": "f38688b2",
   "metadata": {
    "execution": {
     "iopub.execute_input": "2022-04-17T02:35:41.822647Z",
     "iopub.status.busy": "2022-04-17T02:35:41.821529Z",
     "iopub.status.idle": "2022-04-17T02:35:41.997485Z",
     "shell.execute_reply": "2022-04-17T02:35:41.996985Z",
     "shell.execute_reply.started": "2022-04-17T02:23:34.632186Z"
    },
    "papermill": {
     "duration": 0.234616,
     "end_time": "2022-04-17T02:35:41.997652",
     "exception": false,
     "start_time": "2022-04-17T02:35:41.763036",
     "status": "completed"
    },
    "tags": []
   },
   "outputs": [
    {
     "data": {
      "image/png": "[encoded data removed]",
      "text/plain": [
       "<Figure size 432x288 with 1 Axes>"
      ]
     },
     "metadata": {
      "needs_background": "light"
     },
     "output_type": "display_data"
    }
   ],
   "source": [
    "# 混同行列の作成と可視化\n",
    "cm = confusion_matrix(df['true'], df['label'], labels=[\"NORMAL\", \"VIRUS\", \"BACTERIA\"])\n",
    "\n",
    "sns.heatmap(cm, \n",
    "            annot=True, # 数字を表示\n",
    "            fmt='d', # 整数表示\n",
    "            cmap='Blues',\n",
    "            cbar=False # カラーバーを非表示\n",
    ")\n",
    "plt.show()"
   ]
  },
  {
   "cell_type": "markdown",
   "id": "054b9c87",
   "metadata": {
    "papermill": {
     "duration": 0.0508,
     "end_time": "2022-04-17T02:35:42.100470",
     "exception": false,
     "start_time": "2022-04-17T02:35:42.049670",
     "status": "completed"
    },
    "tags": []
   },
   "source": [
    "## Accuracy"
   ]
  },
  {
   "cell_type": "code",
   "execution_count": 35,
   "id": "eec688d7",
   "metadata": {
    "execution": {
     "iopub.execute_input": "2022-04-17T02:35:42.209033Z",
     "iopub.status.busy": "2022-04-17T02:35:42.208316Z",
     "iopub.status.idle": "2022-04-17T02:35:42.211915Z",
     "shell.execute_reply": "2022-04-17T02:35:42.212710Z",
     "shell.execute_reply.started": "2022-04-17T02:24:27.529878Z"
    },
    "papermill": {
     "duration": 0.061625,
     "end_time": "2022-04-17T02:35:42.212950",
     "exception": false,
     "start_time": "2022-04-17T02:35:42.151325",
     "status": "completed"
    },
    "tags": []
   },
   "outputs": [
    {
     "name": "stdout",
     "output_type": "stream",
     "text": [
      "0.8076923076923077\n"
     ]
    }
   ],
   "source": [
    "print(accuracy_score(df['true'], df['label']))"
   ]
  },
  {
   "cell_type": "markdown",
   "id": "3832de3b",
   "metadata": {
    "papermill": {
     "duration": 0.051168,
     "end_time": "2022-04-17T02:35:42.316761",
     "exception": false,
     "start_time": "2022-04-17T02:35:42.265593",
     "status": "completed"
    },
    "tags": []
   },
   "source": [
    "# 予測結果の出力"
   ]
  },
  {
   "cell_type": "code",
   "execution_count": 36,
   "id": "24660472",
   "metadata": {
    "execution": {
     "iopub.execute_input": "2022-04-17T02:35:42.424714Z",
     "iopub.status.busy": "2022-04-17T02:35:42.422828Z",
     "iopub.status.idle": "2022-04-17T02:35:42.432522Z",
     "shell.execute_reply": "2022-04-17T02:35:42.431992Z",
     "shell.execute_reply.started": "2022-04-17T02:23:34.755370Z"
    },
    "papermill": {
     "duration": 0.064292,
     "end_time": "2022-04-17T02:35:42.432701",
     "exception": false,
     "start_time": "2022-04-17T02:35:42.368409",
     "status": "completed"
    },
    "tags": []
   },
   "outputs": [],
   "source": [
    "# データフレームの出力\n",
    "df.to_csv('/kaggle/working/submission.csv', index = False)"
   ]
  }
 ],
 "metadata": {
  "kernelspec": {
   "display_name": "Python 3",
   "language": "python",
   "name": "python3"
  },
  "language_info": {
   "codemirror_mode": {
    "name": "ipython",
    "version": 3
   },
   "file_extension": ".py",
   "mimetype": "text/x-python",
   "name": "python",
   "nbconvert_exporter": "python",
   "pygments_lexer": "ipython3",
   "version": "3.7.12"
  },
  "papermill": {
   "default_parameters": {},
   "duration": 152.484394,
   "end_time": "2022-04-17T02:35:43.395251",
   "environment_variables": {},
   "exception": null,
   "input_path": "__notebook__.ipynb",
   "output_path": "__notebook__.ipynb",
   "parameters": {},
   "start_time": "2022-04-17T02:33:10.910857",
   "version": "2.3.3"
  }
 },
 "nbformat": 4,
 "nbformat_minor": 5
}
