{
 "cells": [
  {
   "cell_type": "markdown",
   "id": "4356aa4c",
   "metadata": {
    "papermill": {
     "duration": 0.00926,
     "end_time": "2022-04-11T11:37:40.372933",
     "exception": false,
     "start_time": "2022-04-11T11:37:40.363673",
     "status": "completed"
    },
    "tags": []
   },
   "source": [
    "# フォルダ統合"
   ]
  },
  {
   "cell_type": "code",
   "execution_count": 1,
   "id": "15a28a0c",
   "metadata": {
    "execution": {
     "iopub.execute_input": "2022-04-11T11:37:40.400088Z",
     "iopub.status.busy": "2022-04-11T11:37:40.399110Z",
     "iopub.status.idle": "2022-04-11T11:37:40.897879Z",
     "shell.execute_reply": "2022-04-11T11:37:40.898424Z",
     "shell.execute_reply.started": "2022-04-11T11:36:31.983055Z"
    },
    "papermill": {
     "duration": 0.51687,
     "end_time": "2022-04-11T11:37:40.898783",
     "exception": false,
     "start_time": "2022-04-11T11:37:40.381913",
     "status": "completed"
    },
    "tags": []
   },
   "outputs": [],
   "source": [
    "# ライブラリのインポート\n",
    "import pandas as pd\n",
    "import os\n",
    "import glob\n",
    "import cv2\n",
    "import shutil\n",
    "import re"
   ]
  },
  {
   "cell_type": "code",
   "execution_count": 2,
   "id": "507f19df",
   "metadata": {
    "_kg_hide-input": true,
    "execution": {
     "iopub.execute_input": "2022-04-11T11:37:40.918874Z",
     "iopub.status.busy": "2022-04-11T11:37:40.918173Z",
     "iopub.status.idle": "2022-04-11T11:37:41.185381Z",
     "shell.execute_reply": "2022-04-11T11:37:41.185891Z",
     "shell.execute_reply.started": "2022-04-11T11:36:32.395833Z"
    },
    "papermill": {
     "duration": 0.278917,
     "end_time": "2022-04-11T11:37:41.186073",
     "exception": false,
     "start_time": "2022-04-11T11:37:40.907156",
     "status": "completed"
    },
    "tags": []
   },
   "outputs": [],
   "source": [
    "# ディレクトリ内の画像リスト作成\n",
    "normal = glob.glob('/kaggle/input/chest-xray-pneumonia/chest_xray/chest_xray/train/NORMAL/*.jpeg')\n",
    "pneumonia = glob.glob('/kaggle/input/chest-xray-pneumonia/chest_xray/chest_xray/train/PNEUMONIA/*.jpeg')\n",
    "#print(normal)\n",
    "#print(pneumonia)"
   ]
  },
  {
   "cell_type": "code",
   "execution_count": 3,
   "id": "806b2fa2",
   "metadata": {
    "execution": {
     "iopub.execute_input": "2022-04-11T11:37:41.206527Z",
     "iopub.status.busy": "2022-04-11T11:37:41.205847Z",
     "iopub.status.idle": "2022-04-11T11:41:55.968290Z",
     "shell.execute_reply": "2022-04-11T11:41:55.967688Z",
     "shell.execute_reply.started": "2022-04-11T11:36:32.402266Z"
    },
    "papermill": {
     "duration": 254.773537,
     "end_time": "2022-04-11T11:41:55.968484",
     "exception": false,
     "start_time": "2022-04-11T11:37:41.194947",
     "status": "completed"
    },
    "tags": []
   },
   "outputs": [],
   "source": [
    "# テスト画像のファイル名を変更し、trainディレクトリに複製する\n",
    "file_path = '/kaggle/working/train/'\n",
    "\n",
    "# ディレクトリ作成\n",
    "os.mkdir(file_path)\n",
    "\n",
    "# ファイルリスト\n",
    "file_list = []\n",
    "\n",
    "# Normal画像の複製\n",
    "for path in normal:\n",
    "    file_name = re.split('[////////]', path)[8]\n",
    "    file_list.append(file_name)\n",
    "    #print(file_name)\n",
    "    img = cv2.imread(path)\n",
    "    img = cv2.cvtColor(img, cv2.COLOR_BGR2RGB)\n",
    "    cv2.imwrite(file_path+file_name, img)\n",
    "\n",
    "# PNEUMONIA画像の複製\n",
    "for path in pneumonia:\n",
    "    file_name = re.split('[////////]', path)[8]\n",
    "    file_list.append(file_name)\n",
    "    #print(file_name)\n",
    "    img = cv2.imread(path)\n",
    "    img = cv2.cvtColor(img, cv2.COLOR_BGR2RGB)\n",
    "    cv2.imwrite(file_path+file_name, img)\n",
    "\n",
    "#print(file_list)"
   ]
  },
  {
   "cell_type": "code",
   "execution_count": 4,
   "id": "93d3a0e8",
   "metadata": {
    "execution": {
     "iopub.execute_input": "2022-04-11T11:41:55.995483Z",
     "iopub.status.busy": "2022-04-11T11:41:55.994800Z",
     "iopub.status.idle": "2022-04-11T11:41:57.580677Z",
     "shell.execute_reply": "2022-04-11T11:41:57.580087Z",
     "shell.execute_reply.started": "2022-04-11T11:36:32.421182Z"
    },
    "papermill": {
     "duration": 1.603436,
     "end_time": "2022-04-11T11:41:57.580818",
     "exception": false,
     "start_time": "2022-04-11T11:41:55.977382",
     "status": "completed"
    },
    "tags": []
   },
   "outputs": [],
   "source": [
    "# ファイル名とラベルのデータフレームを作成\n",
    "df = pd.DataFrame({'name':file_list})\n",
    "df['label'] = None\n",
    "\n",
    "# ラベルの付与\n",
    "for i in range(len(df)):\n",
    "    #print(df.iloc[i, 0])\n",
    "    if 'virus' in df.iloc[i, 0]:\n",
    "        df.iloc[i, 1] = 'virus'\n",
    "    \n",
    "    elif 'bacteria' in df.iloc[i, 0]:\n",
    "        df.iloc[i, 1] = 'bacteria'\n",
    "    \n",
    "    else:\n",
    "        df.iloc[i, 1] = 'normal'"
   ]
  },
  {
   "cell_type": "code",
   "execution_count": 5,
   "id": "dc43efaf",
   "metadata": {
    "execution": {
     "iopub.execute_input": "2022-04-11T11:41:57.603753Z",
     "iopub.status.busy": "2022-04-11T11:41:57.602946Z",
     "iopub.status.idle": "2022-04-11T11:41:57.616115Z",
     "shell.execute_reply": "2022-04-11T11:41:57.615358Z",
     "shell.execute_reply.started": "2022-04-11T11:36:32.442897Z"
    },
    "papermill": {
     "duration": 0.027357,
     "end_time": "2022-04-11T11:41:57.616313",
     "exception": false,
     "start_time": "2022-04-11T11:41:57.588956",
     "status": "completed"
    },
    "tags": []
   },
   "outputs": [
    {
     "name": "stdout",
     "output_type": "stream",
     "text": [
      "                                name     label\n",
      "0          NORMAL2-IM-0771-0001.jpeg    normal\n",
      "1     NORMAL2-IM-1294-0001-0002.jpeg    normal\n",
      "2                  IM-0675-0001.jpeg    normal\n",
      "3          NORMAL2-IM-1169-0001.jpeg    normal\n",
      "4                  IM-0421-0001.jpeg    normal\n",
      "...                              ...       ...\n",
      "5211      person1541_virus_2681.jpeg     virus\n",
      "5212       person799_virus_1431.jpeg     virus\n",
      "5213       person931_virus_1592.jpeg     virus\n",
      "5214       person861_virus_1506.jpeg     virus\n",
      "5215   person1051_bacteria_2985.jpeg  bacteria\n",
      "\n",
      "[5216 rows x 2 columns]\n",
      "bacteria    2530\n",
      "virus       1345\n",
      "normal      1341\n",
      "Name: label, dtype: int64\n"
     ]
    }
   ],
   "source": [
    "# データフレームの確認\n",
    "print(df)\n",
    "print(df['label'].value_counts())"
   ]
  },
  {
   "cell_type": "code",
   "execution_count": 6,
   "id": "cdc7c241",
   "metadata": {
    "execution": {
     "iopub.execute_input": "2022-04-11T11:41:57.638327Z",
     "iopub.status.busy": "2022-04-11T11:41:57.637711Z",
     "iopub.status.idle": "2022-04-11T11:41:57.661876Z",
     "shell.execute_reply": "2022-04-11T11:41:57.661265Z",
     "shell.execute_reply.started": "2022-04-11T11:36:32.469079Z"
    },
    "papermill": {
     "duration": 0.036824,
     "end_time": "2022-04-11T11:41:57.662030",
     "exception": false,
     "start_time": "2022-04-11T11:41:57.625206",
     "status": "completed"
    },
    "tags": []
   },
   "outputs": [],
   "source": [
    "# データフレームの出力\n",
    "df.to_csv('/kaggle/working/train.csv', index = True)"
   ]
  }
 ],
 "metadata": {
  "kernelspec": {
   "display_name": "Python 3",
   "language": "python",
   "name": "python3"
  },
  "language_info": {
   "codemirror_mode": {
    "name": "ipython",
    "version": 3
   },
   "file_extension": ".py",
   "mimetype": "text/x-python",
   "name": "python",
   "nbconvert_exporter": "python",
   "pygments_lexer": "ipython3",
   "version": "3.7.12"
  },
  "papermill": {
   "default_parameters": {},
   "duration": 268.076398,
   "end_time": "2022-04-11T11:41:58.281176",
   "environment_variables": {},
   "exception": null,
   "input_path": "__notebook__.ipynb",
   "output_path": "__notebook__.ipynb",
   "parameters": {},
   "start_time": "2022-04-11T11:37:30.204778",
   "version": "2.3.3"
  }
 },
 "nbformat": 4,
 "nbformat_minor": 5
}
